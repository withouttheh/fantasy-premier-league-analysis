{
 "cells": [
  {
   "cell_type": "markdown",
   "id": "34a95ebd",
   "metadata": {},
   "source": [
    "# Fantasy Premier League 2021/2022 Season Analysis:\n",
    "\n",
    "**This notebook covers how to access the Fantasy Premier League API, build a dataframe, and analyze  the data using Jupyter, Python, Pandas, and Matplotlib.**\n",
    "\n",
    "**About the game**: Each FPL manager is given a starting budget of £100 million and must pick a total of 15 players: two goalkeepers, five defenders, five midfielders and three forwards. You are limited to a maximum of three players from each Premier League team. Players in your team score points based on real-life performances with the biggest contributors being goals, assists and cleansheets.\n",
    "\n",
    "**Analysis Limits**: The data used in this notebook includes all season totals at the end of Gameweek 38 of the 2021/2022 season. This is more of a season overview analysis than a week-to-week analysis, therefore, form and fixtures were not accounted for. The prices used are provided by the FPL API and have already changed to 2022/2023 prices. I have created a 'price range' category to make the analysis more accurate as price changes generally happen within their price range."
   ]
  },
  {
   "cell_type": "markdown",
   "id": "dfe56e5e",
   "metadata": {},
   "source": [
    "## 1. Data Loading\n",
    "\n",
    "First, we import the necessary libraries that we will use throughout the analysis. We then use the requests library retrieve data via the FPL API endpoint. (https://fantasy.premierleague.com/api/bootstrap-static/). The next step is to convert the response data into a json object and then again into a pandas Dataframe. \n"
   ]
  },
  {
   "cell_type": "code",
   "execution_count": 1,
   "id": "3ce0184b",
   "metadata": {},
   "outputs": [],
   "source": [
    "import requests\n",
    "import pandas as pd\n",
    "import numpy as np\n",
    "import matplotlib.pyplot as plt\n",
    "import matplotlib.cm as cm\n",
    "import seaborn as sns"
   ]
  },
  {
   "cell_type": "code",
   "execution_count": 2,
   "id": "922da1ab",
   "metadata": {},
   "outputs": [],
   "source": [
    "elements_df = pd.read_csv('data/20_21_season_data/elements.csv')\n",
    "elements_types_df = pd.read_csv('data/21_22_season_data/element_types.csv')\n",
    "teams_df = pd.read_csv('data/20_21_season_data/teams.csv')"
   ]
  },
  {
   "cell_type": "code",
   "execution_count": 3,
   "id": "b69a9e33",
   "metadata": {},
   "outputs": [],
   "source": [
    "elements_df = elements_df.iloc[:,1:]\n",
    "teams_df = teams_df.iloc[:,1:]\n",
    "elements_types_df = elements_types_df.iloc[:,1:]"
   ]
  },
  {
   "cell_type": "markdown",
   "id": "b4c503c3",
   "metadata": {},
   "source": [
    "## 2. Data Cleaning"
   ]
  },
  {
   "cell_type": "markdown",
   "id": "392225e0",
   "metadata": {},
   "source": [
    "The next step involves cleaing the data"
   ]
  },
  {
   "cell_type": "markdown",
   "id": "773901b3",
   "metadata": {},
   "source": [
    "### Understand data"
   ]
  },
  {
   "cell_type": "code",
   "execution_count": 4,
   "id": "89c303c7",
   "metadata": {
    "scrolled": true
   },
   "outputs": [
    {
     "data": {
      "text/html": [
       "<div>\n",
       "<style scoped>\n",
       "    .dataframe tbody tr th:only-of-type {\n",
       "        vertical-align: middle;\n",
       "    }\n",
       "\n",
       "    .dataframe tbody tr th {\n",
       "        vertical-align: top;\n",
       "    }\n",
       "\n",
       "    .dataframe thead th {\n",
       "        text-align: right;\n",
       "    }\n",
       "</style>\n",
       "<table border=\"1\" class=\"dataframe\">\n",
       "  <thead>\n",
       "    <tr style=\"text-align: right;\">\n",
       "      <th></th>\n",
       "      <th>chance_of_playing_next_round</th>\n",
       "      <th>chance_of_playing_this_round</th>\n",
       "      <th>code</th>\n",
       "      <th>cost_change_event</th>\n",
       "      <th>cost_change_event_fall</th>\n",
       "      <th>cost_change_start</th>\n",
       "      <th>cost_change_start_fall</th>\n",
       "      <th>dreamteam_count</th>\n",
       "      <th>element_type</th>\n",
       "      <th>ep_next</th>\n",
       "      <th>...</th>\n",
       "      <th>threat_rank</th>\n",
       "      <th>threat_rank_type</th>\n",
       "      <th>ict_index_rank</th>\n",
       "      <th>ict_index_rank_type</th>\n",
       "      <th>corners_and_indirect_freekicks_order</th>\n",
       "      <th>corners_and_indirect_freekicks_text</th>\n",
       "      <th>direct_freekicks_order</th>\n",
       "      <th>direct_freekicks_text</th>\n",
       "      <th>penalties_order</th>\n",
       "      <th>penalties_text</th>\n",
       "    </tr>\n",
       "  </thead>\n",
       "  <tbody>\n",
       "    <tr>\n",
       "      <th>0</th>\n",
       "      <td>NaN</td>\n",
       "      <td>NaN</td>\n",
       "      <td>80201</td>\n",
       "      <td>0</td>\n",
       "      <td>0</td>\n",
       "      <td>0</td>\n",
       "      <td>0</td>\n",
       "      <td>0</td>\n",
       "      <td>1</td>\n",
       "      <td>3.5</td>\n",
       "      <td>...</td>\n",
       "      <td>327</td>\n",
       "      <td>4</td>\n",
       "      <td>198</td>\n",
       "      <td>13</td>\n",
       "      <td>NaN</td>\n",
       "      <td>NaN</td>\n",
       "      <td>NaN</td>\n",
       "      <td>NaN</td>\n",
       "      <td>NaN</td>\n",
       "      <td>NaN</td>\n",
       "    </tr>\n",
       "    <tr>\n",
       "      <th>1</th>\n",
       "      <td>NaN</td>\n",
       "      <td>NaN</td>\n",
       "      <td>115918</td>\n",
       "      <td>0</td>\n",
       "      <td>0</td>\n",
       "      <td>0</td>\n",
       "      <td>0</td>\n",
       "      <td>0</td>\n",
       "      <td>1</td>\n",
       "      <td>2.0</td>\n",
       "      <td>...</td>\n",
       "      <td>340</td>\n",
       "      <td>13</td>\n",
       "      <td>357</td>\n",
       "      <td>32</td>\n",
       "      <td>NaN</td>\n",
       "      <td>NaN</td>\n",
       "      <td>NaN</td>\n",
       "      <td>NaN</td>\n",
       "      <td>NaN</td>\n",
       "      <td>NaN</td>\n",
       "    </tr>\n",
       "    <tr>\n",
       "      <th>2</th>\n",
       "      <td>NaN</td>\n",
       "      <td>NaN</td>\n",
       "      <td>47431</td>\n",
       "      <td>0</td>\n",
       "      <td>0</td>\n",
       "      <td>0</td>\n",
       "      <td>0</td>\n",
       "      <td>0</td>\n",
       "      <td>3</td>\n",
       "      <td>3.2</td>\n",
       "      <td>...</td>\n",
       "      <td>146</td>\n",
       "      <td>85</td>\n",
       "      <td>124</td>\n",
       "      <td>71</td>\n",
       "      <td>1.0</td>\n",
       "      <td>NaN</td>\n",
       "      <td>2.0</td>\n",
       "      <td>NaN</td>\n",
       "      <td>NaN</td>\n",
       "      <td>NaN</td>\n",
       "    </tr>\n",
       "    <tr>\n",
       "      <th>3</th>\n",
       "      <td>NaN</td>\n",
       "      <td>NaN</td>\n",
       "      <td>54694</td>\n",
       "      <td>0</td>\n",
       "      <td>0</td>\n",
       "      <td>0</td>\n",
       "      <td>0</td>\n",
       "      <td>0</td>\n",
       "      <td>4</td>\n",
       "      <td>4.2</td>\n",
       "      <td>...</td>\n",
       "      <td>32</td>\n",
       "      <td>16</td>\n",
       "      <td>50</td>\n",
       "      <td>18</td>\n",
       "      <td>NaN</td>\n",
       "      <td>NaN</td>\n",
       "      <td>NaN</td>\n",
       "      <td>NaN</td>\n",
       "      <td>1.0</td>\n",
       "      <td>NaN</td>\n",
       "    </tr>\n",
       "    <tr>\n",
       "      <th>4</th>\n",
       "      <td>NaN</td>\n",
       "      <td>NaN</td>\n",
       "      <td>58822</td>\n",
       "      <td>0</td>\n",
       "      <td>0</td>\n",
       "      <td>0</td>\n",
       "      <td>0</td>\n",
       "      <td>0</td>\n",
       "      <td>2</td>\n",
       "      <td>2.7</td>\n",
       "      <td>...</td>\n",
       "      <td>265</td>\n",
       "      <td>87</td>\n",
       "      <td>295</td>\n",
       "      <td>101</td>\n",
       "      <td>NaN</td>\n",
       "      <td>NaN</td>\n",
       "      <td>5.0</td>\n",
       "      <td>NaN</td>\n",
       "      <td>NaN</td>\n",
       "      <td>NaN</td>\n",
       "    </tr>\n",
       "  </tbody>\n",
       "</table>\n",
       "<p>5 rows × 67 columns</p>\n",
       "</div>"
      ],
      "text/plain": [
       "   chance_of_playing_next_round  chance_of_playing_this_round    code  \\\n",
       "0                           NaN                           NaN   80201   \n",
       "1                           NaN                           NaN  115918   \n",
       "2                           NaN                           NaN   47431   \n",
       "3                           NaN                           NaN   54694   \n",
       "4                           NaN                           NaN   58822   \n",
       "\n",
       "   cost_change_event  cost_change_event_fall  cost_change_start  \\\n",
       "0                  0                       0                  0   \n",
       "1                  0                       0                  0   \n",
       "2                  0                       0                  0   \n",
       "3                  0                       0                  0   \n",
       "4                  0                       0                  0   \n",
       "\n",
       "   cost_change_start_fall  dreamteam_count  element_type  ep_next  ...  \\\n",
       "0                       0                0             1      3.5  ...   \n",
       "1                       0                0             1      2.0  ...   \n",
       "2                       0                0             3      3.2  ...   \n",
       "3                       0                0             4      4.2  ...   \n",
       "4                       0                0             2      2.7  ...   \n",
       "\n",
       "   threat_rank  threat_rank_type ict_index_rank  ict_index_rank_type  \\\n",
       "0          327                 4            198                   13   \n",
       "1          340                13            357                   32   \n",
       "2          146                85            124                   71   \n",
       "3           32                16             50                   18   \n",
       "4          265                87            295                  101   \n",
       "\n",
       "   corners_and_indirect_freekicks_order  corners_and_indirect_freekicks_text  \\\n",
       "0                                   NaN                                  NaN   \n",
       "1                                   NaN                                  NaN   \n",
       "2                                   1.0                                  NaN   \n",
       "3                                   NaN                                  NaN   \n",
       "4                                   NaN                                  NaN   \n",
       "\n",
       "  direct_freekicks_order direct_freekicks_text  penalties_order penalties_text  \n",
       "0                    NaN                   NaN              NaN            NaN  \n",
       "1                    NaN                   NaN              NaN            NaN  \n",
       "2                    2.0                   NaN              NaN            NaN  \n",
       "3                    NaN                   NaN              1.0            NaN  \n",
       "4                    5.0                   NaN              NaN            NaN  \n",
       "\n",
       "[5 rows x 67 columns]"
      ]
     },
     "execution_count": 4,
     "metadata": {},
     "output_type": "execute_result"
    }
   ],
   "source": [
    "elements_df.head()"
   ]
  },
  {
   "cell_type": "code",
   "execution_count": 5,
   "id": "f62eb776",
   "metadata": {},
   "outputs": [
    {
     "data": {
      "text/plain": [
       "(492, 67)"
      ]
     },
     "execution_count": 5,
     "metadata": {},
     "output_type": "execute_result"
    }
   ],
   "source": [
    "elements_df.shape"
   ]
  },
  {
   "cell_type": "code",
   "execution_count": 6,
   "id": "9b010474",
   "metadata": {
    "scrolled": true
   },
   "outputs": [
    {
     "data": {
      "text/plain": [
       "Index(['chance_of_playing_next_round', 'chance_of_playing_this_round', 'code',\n",
       "       'cost_change_event', 'cost_change_event_fall', 'cost_change_start',\n",
       "       'cost_change_start_fall', 'dreamteam_count', 'element_type', 'ep_next',\n",
       "       'ep_this', 'event_points', 'first_name', 'form', 'id', 'in_dreamteam',\n",
       "       'news', 'news_added', 'now_cost', 'photo', 'points_per_game',\n",
       "       'second_name', 'selected_by_percent', 'special', 'squad_number',\n",
       "       'status', 'team', 'team_code', 'total_points', 'transfers_in',\n",
       "       'transfers_in_event', 'transfers_out', 'transfers_out_event',\n",
       "       'value_form', 'value_season', 'web_name', 'minutes', 'goals_scored',\n",
       "       'assists', 'clean_sheets', 'goals_conceded', 'own_goals',\n",
       "       'penalties_saved', 'penalties_missed', 'yellow_cards', 'red_cards',\n",
       "       'saves', 'bonus', 'bps', 'influence', 'creativity', 'threat',\n",
       "       'ict_index', 'influence_rank', 'influence_rank_type', 'creativity_rank',\n",
       "       'creativity_rank_type', 'threat_rank', 'threat_rank_type',\n",
       "       'ict_index_rank', 'ict_index_rank_type',\n",
       "       'corners_and_indirect_freekicks_order',\n",
       "       'corners_and_indirect_freekicks_text', 'direct_freekicks_order',\n",
       "       'direct_freekicks_text', 'penalties_order', 'penalties_text'],\n",
       "      dtype='object')"
      ]
     },
     "execution_count": 6,
     "metadata": {},
     "output_type": "execute_result"
    }
   ],
   "source": [
    "elements_df.columns"
   ]
  },
  {
   "cell_type": "markdown",
   "id": "f4ee9561",
   "metadata": {},
   "source": [
    "### Data Tansformation"
   ]
  },
  {
   "cell_type": "markdown",
   "id": "515047eb",
   "metadata": {},
   "source": [
    "Get only the interesting columns for analysis"
   ]
  },
  {
   "cell_type": "code",
   "execution_count": 7,
   "id": "c0d44e8d",
   "metadata": {
    "scrolled": false
   },
   "outputs": [],
   "source": [
    "cols = ['element_type', 'first_name', 'now_cost', 'points_per_game',\n",
    "       'second_name', 'selected_by_percent', 'team', 'total_points',\n",
    "        'value_season', 'web_name', 'minutes', 'goals_scored',\n",
    "       'assists', 'clean_sheets', 'goals_conceded',\n",
    "       'saves', 'bonus', 'bps', 'influence', 'creativity', 'threat',\n",
    "       'ict_index', 'influence_rank', 'creativity_rank', 'threat_rank', \n",
    "        'ict_index_rank']\n",
    "\n",
    "df = elements_df[cols]"
   ]
  },
  {
   "cell_type": "markdown",
   "id": "38b5b7d8",
   "metadata": {},
   "source": [
    "Check data type"
   ]
  },
  {
   "cell_type": "code",
   "execution_count": 8,
   "id": "1a495276",
   "metadata": {
    "scrolled": true
   },
   "outputs": [
    {
     "data": {
      "text/plain": [
       "element_type             int64\n",
       "first_name              object\n",
       "now_cost                 int64\n",
       "points_per_game        float64\n",
       "second_name             object\n",
       "selected_by_percent    float64\n",
       "team                     int64\n",
       "total_points             int64\n",
       "value_season           float64\n",
       "web_name                object\n",
       "minutes                  int64\n",
       "goals_scored             int64\n",
       "assists                  int64\n",
       "clean_sheets             int64\n",
       "goals_conceded           int64\n",
       "saves                    int64\n",
       "bonus                    int64\n",
       "bps                      int64\n",
       "influence              float64\n",
       "creativity             float64\n",
       "threat                 float64\n",
       "ict_index              float64\n",
       "influence_rank           int64\n",
       "creativity_rank          int64\n",
       "threat_rank              int64\n",
       "ict_index_rank           int64\n",
       "dtype: object"
      ]
     },
     "execution_count": 8,
     "metadata": {},
     "output_type": "execute_result"
    }
   ],
   "source": [
    "df.dtypes"
   ]
  },
  {
   "cell_type": "code",
   "execution_count": 9,
   "id": "1ab0f8a9",
   "metadata": {},
   "outputs": [
    {
     "name": "stderr",
     "output_type": "stream",
     "text": [
      "C:\\Users\\Luto Sibotoboto\\AppData\\Local\\Programs\\Python\\Python39\\lib\\site-packages\\pandas\\core\\frame.py:3069: SettingWithCopyWarning: \n",
      "A value is trying to be set on a copy of a slice from a DataFrame.\n",
      "Try using .loc[row_indexer,col_indexer] = value instead\n",
      "\n",
      "See the caveats in the documentation: https://pandas.pydata.org/pandas-docs/stable/user_guide/indexing.html#returning-a-view-versus-a-copy\n",
      "  self[k1] = value[k2]\n"
     ]
    }
   ],
   "source": [
    "cols = ['points_per_game', 'selected_by_percent', 'value_season', \n",
    "        'influence', 'creativity', 'threat', 'ict_index']\n",
    "\n",
    "df[cols] = df.loc[:, tuple(cols)].astype('float32')"
   ]
  },
  {
   "cell_type": "code",
   "execution_count": 10,
   "id": "2ebaedfa",
   "metadata": {},
   "outputs": [
    {
     "data": {
      "text/html": [
       "<div>\n",
       "<style scoped>\n",
       "    .dataframe tbody tr th:only-of-type {\n",
       "        vertical-align: middle;\n",
       "    }\n",
       "\n",
       "    .dataframe tbody tr th {\n",
       "        vertical-align: top;\n",
       "    }\n",
       "\n",
       "    .dataframe thead th {\n",
       "        text-align: right;\n",
       "    }\n",
       "</style>\n",
       "<table border=\"1\" class=\"dataframe\">\n",
       "  <thead>\n",
       "    <tr style=\"text-align: right;\">\n",
       "      <th></th>\n",
       "      <th>id</th>\n",
       "      <th>plural_name</th>\n",
       "      <th>plural_name_short</th>\n",
       "      <th>singular_name</th>\n",
       "      <th>singular_name_short</th>\n",
       "      <th>squad_select</th>\n",
       "      <th>squad_min_play</th>\n",
       "      <th>squad_max_play</th>\n",
       "      <th>ui_shirt_specific</th>\n",
       "      <th>sub_positions_locked</th>\n",
       "      <th>element_count</th>\n",
       "    </tr>\n",
       "  </thead>\n",
       "  <tbody>\n",
       "    <tr>\n",
       "      <th>0</th>\n",
       "      <td>1</td>\n",
       "      <td>Goalkeepers</td>\n",
       "      <td>GKP</td>\n",
       "      <td>Goalkeeper</td>\n",
       "      <td>GKP</td>\n",
       "      <td>2</td>\n",
       "      <td>1</td>\n",
       "      <td>1</td>\n",
       "      <td>True</td>\n",
       "      <td>[12]</td>\n",
       "      <td>52</td>\n",
       "    </tr>\n",
       "    <tr>\n",
       "      <th>1</th>\n",
       "      <td>2</td>\n",
       "      <td>Defenders</td>\n",
       "      <td>DEF</td>\n",
       "      <td>Defender</td>\n",
       "      <td>DEF</td>\n",
       "      <td>5</td>\n",
       "      <td>3</td>\n",
       "      <td>5</td>\n",
       "      <td>False</td>\n",
       "      <td>[]</td>\n",
       "      <td>192</td>\n",
       "    </tr>\n",
       "    <tr>\n",
       "      <th>2</th>\n",
       "      <td>3</td>\n",
       "      <td>Midfielders</td>\n",
       "      <td>MID</td>\n",
       "      <td>Midfielder</td>\n",
       "      <td>MID</td>\n",
       "      <td>5</td>\n",
       "      <td>2</td>\n",
       "      <td>5</td>\n",
       "      <td>False</td>\n",
       "      <td>[]</td>\n",
       "      <td>226</td>\n",
       "    </tr>\n",
       "    <tr>\n",
       "      <th>3</th>\n",
       "      <td>4</td>\n",
       "      <td>Forwards</td>\n",
       "      <td>FWD</td>\n",
       "      <td>Forward</td>\n",
       "      <td>FWD</td>\n",
       "      <td>3</td>\n",
       "      <td>1</td>\n",
       "      <td>3</td>\n",
       "      <td>False</td>\n",
       "      <td>[]</td>\n",
       "      <td>58</td>\n",
       "    </tr>\n",
       "  </tbody>\n",
       "</table>\n",
       "</div>"
      ],
      "text/plain": [
       "   id  plural_name plural_name_short singular_name singular_name_short  \\\n",
       "0   1  Goalkeepers               GKP    Goalkeeper                 GKP   \n",
       "1   2    Defenders               DEF      Defender                 DEF   \n",
       "2   3  Midfielders               MID    Midfielder                 MID   \n",
       "3   4     Forwards               FWD       Forward                 FWD   \n",
       "\n",
       "   squad_select  squad_min_play  squad_max_play  ui_shirt_specific  \\\n",
       "0             2               1               1               True   \n",
       "1             5               3               5              False   \n",
       "2             5               2               5              False   \n",
       "3             3               1               3              False   \n",
       "\n",
       "  sub_positions_locked  element_count  \n",
       "0                 [12]             52  \n",
       "1                   []            192  \n",
       "2                   []            226  \n",
       "3                   []             58  "
      ]
     },
     "execution_count": 10,
     "metadata": {},
     "output_type": "execute_result"
    }
   ],
   "source": [
    "elements_types_df.head()"
   ]
  },
  {
   "cell_type": "code",
   "execution_count": 11,
   "id": "eb529402",
   "metadata": {
    "scrolled": true
   },
   "outputs": [
    {
     "name": "stderr",
     "output_type": "stream",
     "text": [
      "C:\\Users\\Luto Sibotoboto\\AppData\\Local\\Programs\\Python\\Python39\\lib\\site-packages\\pandas\\core\\indexing.py:1596: SettingWithCopyWarning: \n",
      "A value is trying to be set on a copy of a slice from a DataFrame.\n",
      "Try using .loc[row_indexer,col_indexer] = value instead\n",
      "\n",
      "See the caveats in the documentation: https://pandas.pydata.org/pandas-docs/stable/user_guide/indexing.html#returning-a-view-versus-a-copy\n",
      "  self.obj[key] = _infer_fill_value(value)\n",
      "C:\\Users\\Luto Sibotoboto\\AppData\\Local\\Programs\\Python\\Python39\\lib\\site-packages\\pandas\\core\\indexing.py:1743: SettingWithCopyWarning: \n",
      "A value is trying to be set on a copy of a slice from a DataFrame.\n",
      "Try using .loc[row_indexer,col_indexer] = value instead\n",
      "\n",
      "See the caveats in the documentation: https://pandas.pydata.org/pandas-docs/stable/user_guide/indexing.html#returning-a-view-versus-a-copy\n",
      "  isetter(ilocs[0], value)\n"
     ]
    }
   ],
   "source": [
    "# Add position attrribute\n",
    "pos_dict = dict(zip(elements_types_df['id'], elements_types_df['singular_name']))\n",
    "df.loc[:, 'position'] = df.loc[:,'element_type'].apply(lambda x: pos_dict[x])\n",
    "\n",
    "#Map team to team name\n",
    "team_codes =list(df['team'].unique())\n",
    "team_names = list(teams_df['short_name'].unique())\n",
    "teams_dict = dict(zip(team_codes, team_names))\n",
    "\n",
    "df.loc[:, 'team'] = df.loc[:,'team'].apply(lambda x: teams_dict[x])\n",
    "\n",
    "#Create cost column\n",
    "df.loc[:, 'price'] = df.loc[:,'now_cost'] / 10\n",
    "\n",
    "#Create G+A column\n",
    "\n",
    "df.loc[:, 'G+A'] = df.loc[:,'goals_scored'] + df.loc[:,'assists']"
   ]
  },
  {
   "cell_type": "markdown",
   "id": "49134a74",
   "metadata": {},
   "source": [
    "Drop uninteresting columns"
   ]
  },
  {
   "cell_type": "code",
   "execution_count": 12,
   "id": "8cf97cfe",
   "metadata": {},
   "outputs": [],
   "source": [
    "df = df.drop(['element_type', 'now_cost'], axis=1)"
   ]
  },
  {
   "cell_type": "markdown",
   "id": "ef8dc525",
   "metadata": {},
   "source": [
    "Check for duplicated rows"
   ]
  },
  {
   "cell_type": "code",
   "execution_count": 13,
   "id": "f30c995b",
   "metadata": {
    "scrolled": true
   },
   "outputs": [
    {
     "data": {
      "text/plain": [
       "0"
      ]
     },
     "execution_count": 13,
     "metadata": {},
     "output_type": "execute_result"
    }
   ],
   "source": [
    "df.duplicated().sum()"
   ]
  },
  {
   "cell_type": "markdown",
   "id": "12b27d8b",
   "metadata": {},
   "source": [
    "Discretization and Binning"
   ]
  },
  {
   "cell_type": "code",
   "execution_count": 14,
   "id": "ca5d5601",
   "metadata": {},
   "outputs": [
    {
     "data": {
      "text/plain": [
       "Index(['Midfielder', 'Defender', 'Forward', 'Goalkeeper'], dtype='object')"
      ]
     },
     "execution_count": 14,
     "metadata": {},
     "output_type": "execute_result"
    }
   ],
   "source": [
    "df['position'].value_counts().index"
   ]
  },
  {
   "cell_type": "code",
   "execution_count": 15,
   "id": "ffef5720",
   "metadata": {
    "scrolled": true
   },
   "outputs": [],
   "source": [
    "#Create labels\n",
    "labels = ['Budget', 'Mid', 'Premium']\n",
    "\n",
    "#Create bins\n",
    "gk_bins = [4.0, 5.0, 6.0, 7.0]\n",
    "def_bins = [4.0, 5.0, 6.0, 8.0]\n",
    "mid_bins = [4.0, 6.0, 9.0, 14.0]\n",
    "for_bins = [4.0, 6.0, 9.0, 14.0]\n",
    "\n",
    "#Create list of tuples\n",
    "tup = [(df, gk_bins, 'Goalkeeper', labels),\n",
    "       (df, def_bins, 'Defender', labels),\n",
    "       (df, mid_bins, 'Midfielder', labels),\n",
    "       (df, for_bins, 'Forward', labels)\n",
    "       ]\n",
    "\n",
    "#Discretinization function\n",
    "def categorize_price(dataframe, bins, position, labels):\n",
    "    grp = dataframe.groupby(['position']).get_group(position)\n",
    "    grp_prices = grp['price']\n",
    "    grp.loc[:,'price_range'] = pd.cut(grp_prices, bins, labels=labels, right=False)\n",
    "    \n",
    "    grp_lst.append(grp)\n",
    "    return grp\n",
    "\n",
    "#Create grp_list\n",
    "grp_lst = list()\n",
    "\n",
    "for item in tup:\n",
    "    df = item[0]\n",
    "    bins = item[1]\n",
    "    pos = item[2]\n",
    "    labels = item[3]\n",
    "    categorize_price(df, bins, pos, labels)\n",
    "    \n",
    "frames = grp_lst\n",
    "df = pd.concat(frames)\n"
   ]
  },
  {
   "cell_type": "code",
   "execution_count": 16,
   "id": "2c6e44c6",
   "metadata": {
    "scrolled": true
   },
   "outputs": [],
   "source": [
    "#Create labels\n",
    "labels = ['Differential', 'High']\n",
    "\n",
    "#Create bins\n",
    "selected_by = [0.0, 15.0, 99.0]\n",
    "\n",
    "#Create list of tuples\n",
    "tup = (df, selected_by, labels)\n",
    "\n",
    "#Discretinization function\n",
    "def categorize_own(dataframe, bins, labels):\n",
    "    ownership = dataframe['selected_by_percent']\n",
    "    dataframe['ownership'] = pd.cut(ownership, bins, labels=labels, right=False)\n",
    "\n",
    "    return dataframe\n",
    "\n",
    "df = categorize_own(df, selected_by, labels)"
   ]
  },
  {
   "cell_type": "markdown",
   "id": "f4d3dfb8",
   "metadata": {},
   "source": [
    "### Handle missing data"
   ]
  },
  {
   "cell_type": "code",
   "execution_count": 17,
   "id": "1d199215",
   "metadata": {
    "scrolled": true
   },
   "outputs": [
    {
     "data": {
      "text/plain": [
       "first_name             0\n",
       "points_per_game        0\n",
       "second_name            0\n",
       "selected_by_percent    0\n",
       "team                   0\n",
       "total_points           0\n",
       "value_season           0\n",
       "web_name               0\n",
       "minutes                0\n",
       "goals_scored           0\n",
       "assists                0\n",
       "clean_sheets           0\n",
       "goals_conceded         0\n",
       "saves                  0\n",
       "bonus                  0\n",
       "bps                    0\n",
       "influence              0\n",
       "creativity             0\n",
       "threat                 0\n",
       "ict_index              0\n",
       "influence_rank         0\n",
       "creativity_rank        0\n",
       "threat_rank            0\n",
       "ict_index_rank         0\n",
       "position               0\n",
       "price                  0\n",
       "G+A                    0\n",
       "price_range            0\n",
       "ownership              0\n",
       "dtype: int64"
      ]
     },
     "execution_count": 17,
     "metadata": {},
     "output_type": "execute_result"
    }
   ],
   "source": [
    "df.isnull().sum()"
   ]
  },
  {
   "cell_type": "markdown",
   "id": "3019aee8",
   "metadata": {},
   "source": [
    "### Save clean data"
   ]
  },
  {
   "cell_type": "code",
   "execution_count": 18,
   "id": "2d44b670",
   "metadata": {},
   "outputs": [],
   "source": [
    "df.to_csv('data/20_21_season_data/fpl_clean.csv', index=False)"
   ]
  },
  {
   "cell_type": "markdown",
   "id": "32ba2813",
   "metadata": {},
   "source": [
    "## 3. Exploratory Data Analysis"
   ]
  },
  {
   "cell_type": "markdown",
   "id": "57f9e2f2",
   "metadata": {},
   "source": [
    "The goal of this exploratory data analysis is to derive insights into which metrics contribute to high points totals. The FPL API provides the same statistics that are available on the transfer page. I have added extra attributes to aid in my analysis during the preprocessing stage.\n",
    "\n",
    "The difficult part of the game is getting the right players in at the right time (when they hit 'form'). This analysis will be limited by the fact that 'form' data is not yet available as the season only starts in August 2022. So for now, we will only be working with season totals from the 2021/2022 season. \n",
    "\n",
    "What are we interested in?\n",
    "- High performing teams \n",
    "- High performing players\n",
    "- High performing positions\n",
    "\n",
    "Both attacking and defensive attributes will be taken into account when looking at the above constaints.\n",
    "\n",
    "High performance will be measured mainly in points per game, total points, value season, goals scored, assists, clean_sheets, saves, bonus and G+A (goals and assists combined). Different stats matter depending on the players position and this will be taken into account.\n",
    "\n",
    "**LET'S GO DIGGING!**"
   ]
  },
  {
   "cell_type": "markdown",
   "id": "71cfe105",
   "metadata": {},
   "source": [
    "### NOTE: This analysis will only consider players who played more than 40% of their clubs' total possible minutes."
   ]
  },
  {
   "cell_type": "code",
   "execution_count": 19,
   "id": "6ba7e1c7",
   "metadata": {},
   "outputs": [],
   "source": [
    "#Consider only players who have played atleast 40% of total possible minutes\n",
    "\n",
    "filt = (df['minutes'] > 38 * 0.4 * 90)\n",
    "slim_df = df.loc[filt]"
   ]
  },
  {
   "cell_type": "code",
   "execution_count": 20,
   "id": "510d5898",
   "metadata": {
    "scrolled": false
   },
   "outputs": [
    {
     "data": {
      "text/html": [
       "<div>\n",
       "<style scoped>\n",
       "    .dataframe tbody tr th:only-of-type {\n",
       "        vertical-align: middle;\n",
       "    }\n",
       "\n",
       "    .dataframe tbody tr th {\n",
       "        vertical-align: top;\n",
       "    }\n",
       "\n",
       "    .dataframe thead th {\n",
       "        text-align: right;\n",
       "    }\n",
       "</style>\n",
       "<table border=\"1\" class=\"dataframe\">\n",
       "  <thead>\n",
       "    <tr style=\"text-align: right;\">\n",
       "      <th></th>\n",
       "      <th>count</th>\n",
       "      <th>mean</th>\n",
       "      <th>std</th>\n",
       "      <th>min</th>\n",
       "      <th>25%</th>\n",
       "      <th>50%</th>\n",
       "      <th>75%</th>\n",
       "      <th>max</th>\n",
       "    </tr>\n",
       "  </thead>\n",
       "  <tbody>\n",
       "    <tr>\n",
       "      <th>points_per_game</th>\n",
       "      <td>222.0</td>\n",
       "      <td>3.429279</td>\n",
       "      <td>1.018071</td>\n",
       "      <td>1.7</td>\n",
       "      <td>2.600000</td>\n",
       "      <td>3.400000</td>\n",
       "      <td>4.000000</td>\n",
       "      <td>6.900000</td>\n",
       "    </tr>\n",
       "    <tr>\n",
       "      <th>selected_by_percent</th>\n",
       "      <td>222.0</td>\n",
       "      <td>5.248198</td>\n",
       "      <td>8.439262</td>\n",
       "      <td>0.0</td>\n",
       "      <td>0.500000</td>\n",
       "      <td>1.600000</td>\n",
       "      <td>5.900000</td>\n",
       "      <td>52.000000</td>\n",
       "    </tr>\n",
       "    <tr>\n",
       "      <th>total_points</th>\n",
       "      <td>222.0</td>\n",
       "      <td>102.333333</td>\n",
       "      <td>38.766813</td>\n",
       "      <td>40.0</td>\n",
       "      <td>74.000000</td>\n",
       "      <td>99.000000</td>\n",
       "      <td>128.000000</td>\n",
       "      <td>244.000000</td>\n",
       "    </tr>\n",
       "    <tr>\n",
       "      <th>value_season</th>\n",
       "      <td>222.0</td>\n",
       "      <td>17.399549</td>\n",
       "      <td>5.075293</td>\n",
       "      <td>8.9</td>\n",
       "      <td>13.425000</td>\n",
       "      <td>17.100000</td>\n",
       "      <td>20.675001</td>\n",
       "      <td>33.799999</td>\n",
       "    </tr>\n",
       "    <tr>\n",
       "      <th>minutes</th>\n",
       "      <td>222.0</td>\n",
       "      <td>2345.869369</td>\n",
       "      <td>597.821820</td>\n",
       "      <td>1371.0</td>\n",
       "      <td>1858.000000</td>\n",
       "      <td>2337.500000</td>\n",
       "      <td>2811.000000</td>\n",
       "      <td>3420.000000</td>\n",
       "    </tr>\n",
       "    <tr>\n",
       "      <th>goals_scored</th>\n",
       "      <td>222.0</td>\n",
       "      <td>3.373874</td>\n",
       "      <td>4.342762</td>\n",
       "      <td>0.0</td>\n",
       "      <td>0.250000</td>\n",
       "      <td>2.000000</td>\n",
       "      <td>5.000000</td>\n",
       "      <td>23.000000</td>\n",
       "    </tr>\n",
       "    <tr>\n",
       "      <th>assists</th>\n",
       "      <td>222.0</td>\n",
       "      <td>3.121622</td>\n",
       "      <td>3.318477</td>\n",
       "      <td>0.0</td>\n",
       "      <td>0.000000</td>\n",
       "      <td>2.000000</td>\n",
       "      <td>5.000000</td>\n",
       "      <td>14.000000</td>\n",
       "    </tr>\n",
       "    <tr>\n",
       "      <th>clean_sheets</th>\n",
       "      <td>222.0</td>\n",
       "      <td>8.540541</td>\n",
       "      <td>3.245000</td>\n",
       "      <td>1.0</td>\n",
       "      <td>6.000000</td>\n",
       "      <td>9.000000</td>\n",
       "      <td>11.000000</td>\n",
       "      <td>19.000000</td>\n",
       "    </tr>\n",
       "    <tr>\n",
       "      <th>goals_conceded</th>\n",
       "      <td>222.0</td>\n",
       "      <td>33.126126</td>\n",
       "      <td>11.255661</td>\n",
       "      <td>10.0</td>\n",
       "      <td>24.000000</td>\n",
       "      <td>32.000000</td>\n",
       "      <td>41.000000</td>\n",
       "      <td>68.000000</td>\n",
       "    </tr>\n",
       "    <tr>\n",
       "      <th>saves</th>\n",
       "      <td>222.0</td>\n",
       "      <td>7.707207</td>\n",
       "      <td>26.892611</td>\n",
       "      <td>0.0</td>\n",
       "      <td>0.000000</td>\n",
       "      <td>0.000000</td>\n",
       "      <td>0.000000</td>\n",
       "      <td>142.000000</td>\n",
       "    </tr>\n",
       "    <tr>\n",
       "      <th>bonus</th>\n",
       "      <td>222.0</td>\n",
       "      <td>8.698198</td>\n",
       "      <td>6.881932</td>\n",
       "      <td>0.0</td>\n",
       "      <td>3.000000</td>\n",
       "      <td>7.000000</td>\n",
       "      <td>12.000000</td>\n",
       "      <td>40.000000</td>\n",
       "    </tr>\n",
       "    <tr>\n",
       "      <th>bps</th>\n",
       "      <td>222.0</td>\n",
       "      <td>447.355856</td>\n",
       "      <td>149.551591</td>\n",
       "      <td>168.0</td>\n",
       "      <td>336.500000</td>\n",
       "      <td>433.000000</td>\n",
       "      <td>536.000000</td>\n",
       "      <td>880.000000</td>\n",
       "    </tr>\n",
       "    <tr>\n",
       "      <th>influence</th>\n",
       "      <td>222.0</td>\n",
       "      <td>531.933350</td>\n",
       "      <td>199.186386</td>\n",
       "      <td>153.0</td>\n",
       "      <td>380.699989</td>\n",
       "      <td>513.899994</td>\n",
       "      <td>648.849976</td>\n",
       "      <td>1318.199951</td>\n",
       "    </tr>\n",
       "    <tr>\n",
       "      <th>creativity</th>\n",
       "      <td>222.0</td>\n",
       "      <td>345.634247</td>\n",
       "      <td>288.412109</td>\n",
       "      <td>0.0</td>\n",
       "      <td>103.875000</td>\n",
       "      <td>293.100006</td>\n",
       "      <td>489.725006</td>\n",
       "      <td>1414.900024</td>\n",
       "    </tr>\n",
       "    <tr>\n",
       "      <th>threat</th>\n",
       "      <td>222.0</td>\n",
       "      <td>386.810822</td>\n",
       "      <td>383.561005</td>\n",
       "      <td>0.0</td>\n",
       "      <td>122.750000</td>\n",
       "      <td>248.500000</td>\n",
       "      <td>501.750000</td>\n",
       "      <td>1980.000000</td>\n",
       "    </tr>\n",
       "    <tr>\n",
       "      <th>ict_index</th>\n",
       "      <td>222.0</td>\n",
       "      <td>126.464409</td>\n",
       "      <td>69.062004</td>\n",
       "      <td>29.6</td>\n",
       "      <td>77.925001</td>\n",
       "      <td>104.549999</td>\n",
       "      <td>161.175003</td>\n",
       "      <td>396.200012</td>\n",
       "    </tr>\n",
       "    <tr>\n",
       "      <th>influence_rank</th>\n",
       "      <td>222.0</td>\n",
       "      <td>114.536036</td>\n",
       "      <td>68.907020</td>\n",
       "      <td>1.0</td>\n",
       "      <td>56.250000</td>\n",
       "      <td>111.500000</td>\n",
       "      <td>170.750000</td>\n",
       "      <td>280.000000</td>\n",
       "    </tr>\n",
       "    <tr>\n",
       "      <th>creativity_rank</th>\n",
       "      <td>222.0</td>\n",
       "      <td>143.770270</td>\n",
       "      <td>108.689713</td>\n",
       "      <td>1.0</td>\n",
       "      <td>56.250000</td>\n",
       "      <td>118.000000</td>\n",
       "      <td>219.750000</td>\n",
       "      <td>484.000000</td>\n",
       "    </tr>\n",
       "    <tr>\n",
       "      <th>threat_rank</th>\n",
       "      <td>222.0</td>\n",
       "      <td>150.783784</td>\n",
       "      <td>110.587072</td>\n",
       "      <td>1.0</td>\n",
       "      <td>63.250000</td>\n",
       "      <td>136.500000</td>\n",
       "      <td>210.750000</td>\n",
       "      <td>484.000000</td>\n",
       "    </tr>\n",
       "    <tr>\n",
       "      <th>ict_index_rank</th>\n",
       "      <td>222.0</td>\n",
       "      <td>121.243243</td>\n",
       "      <td>74.977972</td>\n",
       "      <td>1.0</td>\n",
       "      <td>56.250000</td>\n",
       "      <td>119.500000</td>\n",
       "      <td>179.750000</td>\n",
       "      <td>294.000000</td>\n",
       "    </tr>\n",
       "    <tr>\n",
       "      <th>price</th>\n",
       "      <td>222.0</td>\n",
       "      <td>5.882883</td>\n",
       "      <td>1.583934</td>\n",
       "      <td>4.5</td>\n",
       "      <td>5.000000</td>\n",
       "      <td>5.500000</td>\n",
       "      <td>6.375000</td>\n",
       "      <td>12.500000</td>\n",
       "    </tr>\n",
       "    <tr>\n",
       "      <th>G+A</th>\n",
       "      <td>222.0</td>\n",
       "      <td>6.495495</td>\n",
       "      <td>6.873615</td>\n",
       "      <td>0.0</td>\n",
       "      <td>1.000000</td>\n",
       "      <td>4.000000</td>\n",
       "      <td>10.000000</td>\n",
       "      <td>37.000000</td>\n",
       "    </tr>\n",
       "  </tbody>\n",
       "</table>\n",
       "</div>"
      ],
      "text/plain": [
       "                     count         mean         std     min          25%  \\\n",
       "points_per_game      222.0     3.429279    1.018071     1.7     2.600000   \n",
       "selected_by_percent  222.0     5.248198    8.439262     0.0     0.500000   \n",
       "total_points         222.0   102.333333   38.766813    40.0    74.000000   \n",
       "value_season         222.0    17.399549    5.075293     8.9    13.425000   \n",
       "minutes              222.0  2345.869369  597.821820  1371.0  1858.000000   \n",
       "goals_scored         222.0     3.373874    4.342762     0.0     0.250000   \n",
       "assists              222.0     3.121622    3.318477     0.0     0.000000   \n",
       "clean_sheets         222.0     8.540541    3.245000     1.0     6.000000   \n",
       "goals_conceded       222.0    33.126126   11.255661    10.0    24.000000   \n",
       "saves                222.0     7.707207   26.892611     0.0     0.000000   \n",
       "bonus                222.0     8.698198    6.881932     0.0     3.000000   \n",
       "bps                  222.0   447.355856  149.551591   168.0   336.500000   \n",
       "influence            222.0   531.933350  199.186386   153.0   380.699989   \n",
       "creativity           222.0   345.634247  288.412109     0.0   103.875000   \n",
       "threat               222.0   386.810822  383.561005     0.0   122.750000   \n",
       "ict_index            222.0   126.464409   69.062004    29.6    77.925001   \n",
       "influence_rank       222.0   114.536036   68.907020     1.0    56.250000   \n",
       "creativity_rank      222.0   143.770270  108.689713     1.0    56.250000   \n",
       "threat_rank          222.0   150.783784  110.587072     1.0    63.250000   \n",
       "ict_index_rank       222.0   121.243243   74.977972     1.0    56.250000   \n",
       "price                222.0     5.882883    1.583934     4.5     5.000000   \n",
       "G+A                  222.0     6.495495    6.873615     0.0     1.000000   \n",
       "\n",
       "                             50%          75%          max  \n",
       "points_per_game         3.400000     4.000000     6.900000  \n",
       "selected_by_percent     1.600000     5.900000    52.000000  \n",
       "total_points           99.000000   128.000000   244.000000  \n",
       "value_season           17.100000    20.675001    33.799999  \n",
       "minutes              2337.500000  2811.000000  3420.000000  \n",
       "goals_scored            2.000000     5.000000    23.000000  \n",
       "assists                 2.000000     5.000000    14.000000  \n",
       "clean_sheets            9.000000    11.000000    19.000000  \n",
       "goals_conceded         32.000000    41.000000    68.000000  \n",
       "saves                   0.000000     0.000000   142.000000  \n",
       "bonus                   7.000000    12.000000    40.000000  \n",
       "bps                   433.000000   536.000000   880.000000  \n",
       "influence             513.899994   648.849976  1318.199951  \n",
       "creativity            293.100006   489.725006  1414.900024  \n",
       "threat                248.500000   501.750000  1980.000000  \n",
       "ict_index             104.549999   161.175003   396.200012  \n",
       "influence_rank        111.500000   170.750000   280.000000  \n",
       "creativity_rank       118.000000   219.750000   484.000000  \n",
       "threat_rank           136.500000   210.750000   484.000000  \n",
       "ict_index_rank        119.500000   179.750000   294.000000  \n",
       "price                   5.500000     6.375000    12.500000  \n",
       "G+A                     4.000000    10.000000    37.000000  "
      ]
     },
     "execution_count": 20,
     "metadata": {},
     "output_type": "execute_result"
    }
   ],
   "source": [
    "slim_df.describe().transpose()"
   ]
  },
  {
   "cell_type": "markdown",
   "id": "125dfaf8",
   "metadata": {},
   "source": [
    "- Only 219 out of 519 players played more than 40% of the total season minutes. This number is as close as possible to 220 which would be the number of starting players in a team (11), multiplied by the number of teams (20).\n",
    "- The top 25% of players had a total points of 125 or higher which is equivalent to 3.8 points per per game"
   ]
  },
  {
   "cell_type": "markdown",
   "id": "d9845917",
   "metadata": {},
   "source": [
    "###  Analysis By Team:\n",
    "\n",
    "We begin our analysis with a high-level overview of the teams performances which will provide a good base for determining where to look for players"
   ]
  },
  {
   "cell_type": "code",
   "execution_count": 21,
   "id": "57ec4286",
   "metadata": {},
   "outputs": [],
   "source": [
    "#Style for plots\n",
    "plt.style.use('ggplot')"
   ]
  },
  {
   "cell_type": "code",
   "execution_count": 22,
   "id": "8ba391b5",
   "metadata": {
    "scrolled": false
   },
   "outputs": [
    {
     "data": {
      "image/png": "[encoded data removed]",
      "text/plain": [
       "<Figure size 1080x864 with 4 Axes>"
      ]
     },
     "metadata": {},
     "output_type": "display_data"
    }
   ],
   "source": [
    "tp_df = slim_df.pivot_table('total_points', index='team', aggfunc='sum').sort_values(by='total_points', ascending=True)\n",
    "ppg_df = slim_df.pivot_table('points_per_game', index='team', aggfunc='mean').sort_values(by='points_per_game', ascending=True)\n",
    "att_df = slim_df.pivot_table('G+A', index='team', aggfunc='sum').sort_values(by='G+A', ascending=True)\n",
    "def_df = slim_df.pivot_table('clean_sheets', index='team', aggfunc='sum').sort_values(by='clean_sheets', ascending=True)\n",
    "\n",
    "fg, ax = plt.subplots(2, 2, figsize=(15,12))\n",
    "\n",
    "(ax1, ax2), (ax3, ax4) = ax\n",
    "\n",
    "#Plot 1\n",
    "x1 = tp_df.index\n",
    "y1 = tp_df['total_points']\n",
    "ax1.barh(x1, y1, label='Total Points', color='#2F4F4F')\n",
    "ax1.set(title='Total Points By Club', ylabel='Clubs', xlabel='Total Points')\n",
    "ax1.legend()\n",
    "\n",
    "#Plot 2\n",
    "x2 = ppg_df.index\n",
    "y2 = ppg_df['points_per_game']\n",
    "ax2.barh(x2, y2, label='Points Per Game', color='#B22222')\n",
    "ax2.set(title='Points Per Game', ylabel='Clubs', xlabel='Points Per Game')\n",
    "ax2.legend()\n",
    "\n",
    "#Plot 3\n",
    "x3 = att_df.index\n",
    "y3 = att_df['G+A']\n",
    "ax3.barh(x3, y3, label='G+A', color='#006400')\n",
    "ax3.set(title='Total G+A By Club', ylabel='Clubs', xlabel='G+A')\n",
    "ax3.legend()\n",
    "\n",
    "#Plot 4\n",
    "x4 = def_df.index\n",
    "y4 = def_df['clean_sheets']\n",
    "ax4.barh(x4, y4, label='Cleansheets', color='#FF4500')\n",
    "ax4.set(title='Cleansheets', ylabel='Clubs', xlabel='Cleansheets')\n",
    "ax4.legend()\n",
    "\n",
    "plt.tight_layout()"
   ]
  },
  {
   "cell_type": "markdown",
   "id": "419791b4",
   "metadata": {},
   "source": [
    "The bar charts provide some useful insights on which teams performed well over the 2021/2022. A high performing team is most likely to include high performing players by virtue of goal contributions and defensive contributions which are the cornerstone for picking players. These are the teams where will choose our base squad from which will have our long-term and premium players.\n",
    "\n",
    "- **Total Points**: Chelsea, Man City, Spurs and Liverpool were the standout performers in this metric.\n",
    "- Liverpool and Man City players were the only players to average **more than 4 points per game** with Liverpool averaging more than 5 points per game.\n",
    "- **Attack**: Chelsea, Liverpool, Man City, Spurs, and West Ham were the only clubs to provide more than 100 combined goals and assists.\n",
    "- **Defence**: Man City, Liverpool, Spurs, Chelsea and Arsenal were the only clubs to provide more than 125 total cleansheets."
   ]
  },
  {
   "cell_type": "code",
   "execution_count": 23,
   "id": "7231196e",
   "metadata": {},
   "outputs": [
    {
     "data": {
      "text/plain": [
       "<matplotlib.legend.Legend at 0x21a31050f40>"
      ]
     },
     "execution_count": 23,
     "metadata": {},
     "output_type": "execute_result"
    },
    {
     "data": {
      "image/png": "[encoded data removed]",
      "text/plain": [
       "<Figure size 864x576 with 1 Axes>"
      ]
     },
     "metadata": {},
     "output_type": "display_data"
    }
   ],
   "source": [
    "rotation_df = slim_df['team'].value_counts().to_frame()\n",
    "\n",
    "fg, ax = plt.subplots(figsize=(12,8))\n",
    "\n",
    "#Plot \n",
    "x = rotation_df.index\n",
    "y = rotation_df['team']\n",
    "ax.bar(x, y, label='Number of Players', color='#2F4F4F')\n",
    "ax.set(title='Number of Players With Over 40% of Season Minutes Played', xlabel='Clubs', ylabel='Number of Players')\n",
    "ax.legend()"
   ]
  },
  {
   "cell_type": "markdown",
   "id": "f6fa2932",
   "metadata": {},
   "source": [
    "To maximize  on potential points, it is always good to choose players that are most likely to start and finish the game. The less players used by a club, the better; as this means that the potential for rotation is very low. \n",
    "\n",
    "- Man City, Chelsea and Spurs are some of the high performing teams with high roation meanwhile Liverpool does not roate often."
   ]
  },
  {
   "cell_type": "code",
   "execution_count": 24,
   "id": "b5e419d6",
   "metadata": {
    "scrolled": false
   },
   "outputs": [
    {
     "data": {
      "image/png": "[encoded data removed]",
      "text/plain": [
       "<Figure size 1296x1152 with 4 Axes>"
      ]
     },
     "metadata": {},
     "output_type": "display_data"
    }
   ],
   "source": [
    "value_df = slim_df.groupby(['team']).aggregate({'value_season': 'mean', 'points_per_game': 'mean'}).sort_values(by='value_season', ascending=False)\n",
    "def_val_df = slim_df.groupby(['team']).aggregate({'value_season': 'mean', 'clean_sheets': 'mean'}).sort_values(by='value_season', ascending=False)\n",
    "att_val_df = slim_df.groupby(['team']).aggregate({'value_season': 'mean', 'G+A': 'mean'}).sort_values(by='value_season', ascending=False)\n",
    "\n",
    "fg, ax = plt.subplots(2,2, figsize=(18,16))\n",
    "\n",
    "(ax1, ax2), (ax3, ax4) = ax\n",
    "ax[-1, -1].axis('off')\n",
    "\n",
    "#Plot 1\n",
    "x1 = value_df['points_per_game']\n",
    "y1 = value_df['value_season']\n",
    "ax1.scatter(x1, y1, label='Season Value vs PPG', edgecolor='black', color='#2F4F4F')\n",
    "ax1.set(title='Season Value vs Points Per Game', xlabel='Points Per Game', ylabel='Value Season')\n",
    "ax1.legend()\n",
    "\n",
    "ann_txt1 = value_df.index\n",
    "for i, txt1 in enumerate(ann_txt1):\n",
    "    ax1.annotate(txt1, (x1[i]+.05, y1[i]-.20), fontsize=8)\n",
    "    \n",
    "\n",
    "y1_mean = y1.mean()\n",
    "x1_mean = x1.mean()\n",
    "ax1.axhline(y1_mean)\n",
    "ax1.axvline(x1_mean)\n",
    "    \n",
    "#Plot 2\n",
    "x2 = att_val_df['G+A']\n",
    "y2 = value_df['value_season']\n",
    "ax2.scatter(x2, y2, label='Season Value vs G+A', edgecolor='black', color='#B22222')\n",
    "ax2.set(title='Season Value vs Goal Contributions', xlabel='Goal Contributions', ylabel='Value Season')\n",
    "ax2.legend()\n",
    "\n",
    "ann_txt2 = att_val_df.index\n",
    "for i, txt2 in enumerate(ann_txt2):\n",
    "    ax2.annotate(txt2, (x2[i]+.05, y2[i]-.20), fontsize=8)\n",
    "\n",
    "y2_mean = y2.mean()\n",
    "x2_mean = x2.mean()\n",
    "ax2.axhline(y2_mean)\n",
    "ax2.axvline(x2_mean)\n",
    "\n",
    "#Plot 3\n",
    "x3 = def_val_df['clean_sheets']\n",
    "y3 = def_val_df['value_season']\n",
    "ax3.scatter(x3, y3, label='Season Value vs Cleansheets', edgecolor='black', color='#006400')\n",
    "ax3.set(title='Season Value vs Cleansheets', xlabel='Cleansheets', ylabel='Value Season')\n",
    "ax3.legend()\n",
    "\n",
    "y3_mean = y3.mean()\n",
    "x3_mean = x3.mean()\n",
    "ax3.axhline(y3_mean)\n",
    "ax3.axvline(x3_mean)\n",
    "\n",
    "ann_txt3 = def_val_df.index\n",
    "for i, txt3 in enumerate(ann_txt3):\n",
    "    ax3.annotate(txt3, (x3[i]+.05, y3[i]-.20), fontsize=8)"
   ]
  },
  {
   "cell_type": "markdown",
   "id": "cf4fd92a",
   "metadata": {},
   "source": [
    "The above scatter plots can be useful for detecting teams that might have high value players flying under the radar. Players from these teams would be great to have as differentials, as well as on the bench. \n",
    "\n",
    "The uppermost right quandrant in each scatter plot contains the best value & high-performing teams in each statistical category. These are the teams where we would like to choose our base squad from, which will have our long-term and premium players. We have already identified Liverpool, Chelsea, Man City, Spurs, Arsenal and West Ham as teams that fit this criteria which is why they will be ignored in this section. \n",
    "\n",
    "The uppermost left quadrant is the quadrant of interest as this is where the differentials and 'under the radar' players should come from.\n",
    "\n",
    "- **Overall**: Aston Villa, Crystal Palace, Brentford, and Wolves would have provided good differentials last season.\n",
    "- **Goal Contributions**: Aston Villa , Crystal Palace and Brentford players performed well going forward.\n",
    "- **Cleansheets**: Interestingly enough, Aston Villa, Crystal Palace and Wolves performed very well defensively while providing great value. They are all in the uppermost right quadrant."
   ]
  },
  {
   "cell_type": "markdown",
   "id": "0a0b011a",
   "metadata": {},
   "source": [
    "### Analysis By Position:\n",
    "\n",
    "Next in our analysis we look at which positions to has the best performing players. This will guide us in structuring our squad and distribution of funds. Similar to investing in stocks, you first choose a market that is performing well and from there you choose specific companies that perform well. This same logic will be applied with positions being the market.\n",
    "\n",
    "Here we continue with our \"**slim_df**\" (players with atleast 40% of total season minutes) as these are the only players that will provide any statistical significance. From this dataframe, we will filter and only focus on the players that are above average (50%) in the follwoing statistical categories: Total points, Points per game, Bonus, and Value Season. To be fair, the average for Midfielders will be used to filter Midfielders, Defenders for Defenders and so on so that apples are compared with apples. We will refer to this group as \"**high performing players**\"."
   ]
  },
  {
   "cell_type": "code",
   "execution_count": 25,
   "id": "34539517",
   "metadata": {},
   "outputs": [],
   "source": [
    "#Get above average players in each position\n",
    "\n",
    "def get_top_50_pct(data_f, pos_list,):\n",
    "    players = []\n",
    "    for pos in pos_list:\n",
    "        pos_df = data_f[data_f['position'] == pos]\n",
    "        \n",
    "        mean_vals = dict(pos_df.describe().loc['50%'][['total_points', 'points_per_game','value_season', 'bonus']])\n",
    "        \n",
    "        filt1 = pos_df['total_points'] > mean_vals['total_points']\n",
    "        filt2 = pos_df['points_per_game'] > mean_vals['points_per_game']\n",
    "        filt3 = pos_df['value_season'] > mean_vals['value_season']\n",
    "        filt4 = pos_df['bonus'] > mean_vals['bonus']\n",
    "        \n",
    "        above_mean = list(pos_df[filt1 & filt2 & filt3 & filt4]['web_name'])\n",
    "        \n",
    "        for player in above_mean:\n",
    "            players.append(player)\n",
    "    return players\n",
    "\n",
    "positions = ['Goalkeeper', 'Defender', 'Midfielder', 'Forward']\n",
    "above_ave_players = get_top_50_pct(slim_df, positions)\n",
    "\n",
    "top_df = slim_df.set_index('web_name').loc[above_ave_players].reset_index()"
   ]
  },
  {
   "cell_type": "code",
   "execution_count": 26,
   "id": "abe2753f",
   "metadata": {},
   "outputs": [
    {
     "data": {
      "text/plain": [
       "Midfielder    35\n",
       "Defender      21\n",
       "Forward        7\n",
       "Goalkeeper     5\n",
       "Name: position, dtype: int64"
      ]
     },
     "execution_count": 26,
     "metadata": {},
     "output_type": "execute_result"
    }
   ],
   "source": [
    "#Position value counts\n",
    "top_df['position'].value_counts()"
   ]
  },
  {
   "cell_type": "markdown",
   "id": "dfe26d79",
   "metadata": {},
   "source": [
    "There are 10 times as many defenders (32) and midfielders (32) as there are forwards (3) and 6 times as many defenders and midfielders as there are goalkeepers (5)."
   ]
  },
  {
   "cell_type": "code",
   "execution_count": null,
   "id": "51c1aa49",
   "metadata": {
    "scrolled": false
   },
   "outputs": [],
   "source": [
    "tp_df = top_df.pivot_table('total_points', index='position', aggfunc='median').sort_values(by='total_points', ascending=False)\n",
    "ppg_df = top_df.pivot_table('points_per_game', index='position', aggfunc='median').sort_values(by='points_per_game', ascending=False)\n",
    "val_df = top_df.pivot_table('value_season', index='position', aggfunc='median').sort_values(by='value_season', ascending=False)\n",
    "bonus_df = top_df.pivot_table('bonus', index='position', aggfunc='median').sort_values(by='bonus', ascending=False)\n",
    "\n",
    "fg, ax = plt.subplots(2, 2, figsize=(15,12))\n",
    "\n",
    "(ax1, ax2), (ax3, ax4) = ax\n",
    "\n",
    "#Plot 1\n",
    "x1 = tp_df.index\n",
    "y1 = tp_df['total_points']\n",
    "ax1.bar(x1, y1, label='Avg Points', color='#2F4F4F')\n",
    "ax1.set(title='Average Points By Position', ylabel='Position', xlabel='Points')\n",
    "ax1.legend()\n",
    "\n",
    "#Plot 2\n",
    "x2 = ppg_df.index\n",
    "y2 = ppg_df['points_per_game']\n",
    "ax2.bar(x2, y2, label='Avg Points Per Game', color='#B22222')\n",
    "ax2.set(title='Average Points Per Game By Position', ylabel='Position', xlabel='Points Per Game')\n",
    "ax2.legend()\n",
    "\n",
    "#Plot 3\n",
    "x3 = val_df.index\n",
    "y3 = val_df['value_season']\n",
    "ax3.bar(x3, y3, label='Avg Value', color='#006400')\n",
    "ax3.set(title='Average Season Value', ylabel='Position', xlabel='Season Value')\n",
    "ax3.legend()\n",
    "\n",
    "#Plot 4\n",
    "x4 = bonus_df.index\n",
    "y4 = bonus_df['bonus']\n",
    "ax4.bar(x4, y4, label='Avg Bonus', color='#FF4500')\n",
    "ax4.set(title='Average Bonus by Position', ylabel='Position', xlabel='Bonus')\n",
    "ax4.legend()\n",
    "\n",
    "plt.tight_layout()"
   ]
  },
  {
   "cell_type": "markdown",
   "id": "9001f6ac",
   "metadata": {},
   "source": [
    "**NOTE**: Statistics only apply to *above average players:\n",
    "\n",
    "***See section introduction for definition**\n",
    "\n",
    "- When it comes down to points per game, each position managers atleast 4 points per game.\n",
    "- Over the course of a season, goalkeepers and defenders generally provide the best value due to their lower price points.\n",
    "- The FPL bonus points system generally rewards attacking actions more than defensive actions. This gives an advantage to forwards, midfielders and attack-minded defenders. On average forwards scored atleast 3 more bonus points than the other positions."
   ]
  },
  {
   "cell_type": "code",
   "execution_count": null,
   "id": "b2d8ed15",
   "metadata": {
    "scrolled": false
   },
   "outputs": [],
   "source": [
    "#Distribution of points by position\n",
    "cp = sns.color_palette(['#B22222','#2F4F4F','#006400','#FF4500'])\n",
    "sns.displot(top_df, x='total_points', hue='position', multiple='stack', stat='frequency', bins=10, palette=cp)"
   ]
  },
  {
   "cell_type": "markdown",
   "id": "20d105b2",
   "metadata": {},
   "source": [
    "The key takeways from this plot is the heights of the bars. The more times a position's total points is accounted for within a certain range of values, the greater the bar.\n",
    "\n",
    "- The positions with the majority of high performing players were in the Midfield and Defense.\n",
    "- Midfielder and Defenders also dominate season points totals greater than 150. Investing heavily in these positions would have yielded great returns over the season. These positions would have been great for long-term investments.\n",
    "- There were only a few high performing Forwards and Goalkeepers to choose from last season. These positions would have been great for short-term investments based on form or fixtures.\n",
    "- The outliers in terms of season points totals (> 250 pts) were  Midfielders, which again shows the great points potential that the midfield had last season."
   ]
  },
  {
   "cell_type": "code",
   "execution_count": null,
   "id": "ae89c2ef",
   "metadata": {},
   "outputs": [],
   "source": [
    "fig, ax = plt.subplots(2,2,figsize=(12,12))\n",
    "(ax1,ax2),(ax3,ax4) = ax\n",
    "\n",
    "def make_autopct(values):\n",
    "    def my_autopct(pct):\n",
    "        total = sum(values)\n",
    "        val = int(round(pct*total/100.0))\n",
    "        #return '{p:.2f}% ({v:})'.format(v=val)\n",
    "        return '{v:}'.format(v=val)\n",
    "    return my_autopct\n",
    "        \n",
    "colors=['#B22222','#2F4F4F','#006400']\n",
    "#Plot1\n",
    "slices1 = top_df.groupby('position')['price_range'].value_counts()['Goalkeeper']\n",
    "labels1 = top_df.groupby('position')['price_range'].value_counts()['Goalkeeper'].index\n",
    "ax1.pie(slices1, labels=labels1, wedgeprops={'edgecolor':'black'}, colors=colors, startangle=90, autopct=make_autopct(slices1), shadow=True)\n",
    "ax1.set(title='Number of Top Goalkeepers')\n",
    "ax1.legend()\n",
    "\n",
    "#Plot2\n",
    "slices2 = top_df.groupby('position')['price_range'].value_counts()['Defender']\n",
    "labels2 = top_df.groupby('position')['price_range'].value_counts()['Defender'].index\n",
    "ax2.pie(slices2, labels=labels2, wedgeprops={'edgecolor':'black'}, colors=colors, startangle=90, autopct=make_autopct(slices2), shadow=True)\n",
    "ax2.set(title='Number of Top Defenders')\n",
    "ax2.legend()\n",
    "\n",
    "#PLot3\n",
    "slices3 = top_df.groupby('position')['price_range'].value_counts()['Midfielder']\n",
    "labels3 = top_df.groupby('position')['price_range'].value_counts()['Midfielder'].index\n",
    "ax3.pie(slices3, labels=labels3, wedgeprops={'edgecolor':'black'}, colors=colors, startangle=90, autopct=make_autopct(slices3), shadow=True)\n",
    "ax3.set(title='Number of Top Midfielders')\n",
    "ax3.legend()\n",
    "\n",
    "#Plot4\n",
    "slices4 = top_df.groupby('position')['price_range'].value_counts()['Forward']\n",
    "labels4 = top_df.groupby('position')['price_range'].value_counts()['Forward'].index\n",
    "ax4.pie(slices4, labels=labels4, wedgeprops={'edgecolor':'black'}, colors=colors, startangle=90, autopct=make_autopct(slices4), shadow=True)\n",
    "ax4.set(title='Number of Top Forwards')\n",
    "ax4.legend()"
   ]
  },
  {
   "cell_type": "markdown",
   "id": "eec3f160",
   "metadata": {},
   "source": [
    "When a FPL Manager builds their squad, they have to spread their buget between premium players, mid-priced players and budget players.  The composition of your squad has some influence on how many points you will get at the end of the season. A well-balanced team will always outperform a top-heavy team littered with buget fillers.\n",
    "\n",
    "In the above plot we are interested in the composition of high performing players in each position. This will help in squad composition and will influence your formation.\n",
    "\n",
    "- The Defense is where you would have wanted to spend the most money on premium players (atleast 3) followed by the Midfield.\n",
    "- The Defense is also where you would have found the most variety in budget players\n",
    "- The Midfield would have been best composed with mid-price players and 1 or 2 premium players\n"
   ]
  },
  {
   "cell_type": "markdown",
   "id": "158a0be0",
   "metadata": {},
   "source": [
    "### Analysis By Player:\n",
    "\n",
    "Now that we have a rough idea of where to look (club and position) for the high performing players, we can start analyzing the players to see what insights we can get from the data."
   ]
  },
  {
   "cell_type": "code",
   "execution_count": null,
   "id": "9859a905",
   "metadata": {},
   "outputs": [],
   "source": [
    "#Correlation between different variables\n",
    "corr_df = top_df[['G+A', 'points_per_game',\n",
    "       'selected_by_percent', 'total_points', 'value_season',\n",
    "       'minutes', 'goals_scored', 'assists', 'clean_sheets',\n",
    "      'saves', 'bonus', 'bps', 'influence', 'creativity',\n",
    "       'threat', 'ict_index'\n",
    "       ]].corr()\n",
    "\n",
    "f, ax = plt.subplots(figsize=(15,10))\n",
    "#Configure custom diverging colormap\n",
    "cmap = sns.diverging_palette(230,20, as_cmap=True)\n",
    "#Draw map\n",
    "sns.heatmap(corr_df, annot=True, cmap=cmap)"
   ]
  },
  {
   "cell_type": "markdown",
   "id": "22cb567e",
   "metadata": {},
   "source": [
    "Here we are interested in the attributes that have dark shades of red or blue in the **total points** row as these have moderate to strong positive/negative correlation. We will only choose the top 4 attributes to plot against the total points attributes.\n",
    "\n",
    "- Points Per Game\n",
    "- Influence\n",
    "- Bonus\n",
    "- ICT Index"
   ]
  },
  {
   "cell_type": "code",
   "execution_count": null,
   "id": "f4f53270",
   "metadata": {
    "scrolled": false
   },
   "outputs": [],
   "source": [
    "ppg_df = top_df.groupby(['web_name']).aggregate({'total_points': 'mean', 'points_per_game': 'mean'}).sort_values(by='total_points', ascending=False)\n",
    "inf_df = top_df.groupby(['web_name']).aggregate({'total_points': 'mean', 'influence': 'mean'}).sort_values(by='total_points', ascending=False)\n",
    "bon_df = top_df.groupby(['web_name']).aggregate({'total_points': 'mean', 'bonus': 'mean'}).sort_values(by='total_points', ascending=False)\n",
    "ict_df = top_df.groupby(['web_name']).aggregate({'total_points': 'mean', 'ict_index': 'mean'}).sort_values(by='total_points', ascending=False)\n",
    "\n",
    "fg, ax = plt.subplots(4,1, figsize=(15,40))\n",
    "\n",
    "ax1, ax2, ax3, ax4 = ax\n",
    "#ax[-1, -1].axis('off')\n",
    "\n",
    "#Plot 1\n",
    "x1 = ppg_df['points_per_game']\n",
    "y1 = ppg_df['total_points']\n",
    "ax1.scatter(x1, y1, label='Total Points vs PPG', edgecolor='black', color='#2F4F4F')\n",
    "ax1.set(title='Total Points vs PPG', xlabel='Points Per Game', ylabel='Total Points')\n",
    "ax1.legend()\n",
    "\n",
    "ann_txt1 = ppg_df.index\n",
    "for i, txt1 in enumerate(ann_txt1):\n",
    "    ax1.annotate(txt1, (x1[i]+.05, y1[i]-.20), fontsize=8)\n",
    "    \n",
    "\n",
    "y1_mean = y1.mean()\n",
    "x1_mean = x1.mean()\n",
    "ax1.axhline(y1_mean)\n",
    "ax1.axvline(x1_mean)\n",
    "    \n",
    "#Plot 2\n",
    "x2 = inf_df['influence']\n",
    "y2 = inf_df['total_points']\n",
    "ax2.scatter(x2, y2, label='Influence vs Total Points', edgecolor='black', color='#B22222')\n",
    "ax2.set(title='Influence vs Total Points', xlabel='Influence', ylabel='Total Points')\n",
    "ax2.legend()\n",
    "\n",
    "ann_txt2 = inf_df.index\n",
    "for i, txt2 in enumerate(ann_txt2):\n",
    "    ax2.annotate(txt2, (x2[i]+.05, y2[i]-.20), fontsize=9)\n",
    "\n",
    "y2_mean = y2.mean()\n",
    "x2_mean = x2.mean()\n",
    "ax2.axhline(y2_mean)\n",
    "ax2.axvline(x2_mean)\n",
    "\n",
    "#Plot 3\n",
    "x3 = bon_df['bonus']\n",
    "y3 = bon_df['total_points']\n",
    "ax3.scatter(x3, y3, label='Bonus vs Total Points', edgecolor='black', color='#006400')\n",
    "ax3.set(title='Bonus vs Total Points', xlabel='Bonus', ylabel='Total Points')\n",
    "ax3.legend()\n",
    "\n",
    "y3_mean = y3.mean()\n",
    "x3_mean = x3.mean()\n",
    "ax3.axhline(y3_mean)\n",
    "ax3.axvline(x3_mean)\n",
    "\n",
    "ann_txt3 = bon_df.index\n",
    "for i, txt3 in enumerate(ann_txt3):\n",
    "    ax3.annotate(txt3, (x3[i]+.05, y3[i]-.20), fontsize=8)\n",
    "\n",
    "#Plot 4\n",
    "x4 = ict_df['ict_index']\n",
    "y4 = ict_df['total_points']\n",
    "ax4.scatter(x4, y4, label='ICT Index vs Total Points', edgecolor='black', color='#FF4500')\n",
    "ax4.set(title='ICT Index vs Total Points', xlabel='ICT Index', ylabel='Total Points')\n",
    "ax4.legend()\n",
    "\n",
    "y4_mean = y4.mean()\n",
    "x4_mean = x4.mean()\n",
    "ax4.axhline(y4_mean)\n",
    "ax4.axvline(x4_mean)\n",
    "\n",
    "ann_txt4 = ict_df.index\n",
    "for i, txt4 in enumerate(ann_txt4):\n",
    "    ax4.annotate(txt4, (x4[i]+.05, y4[i]-.20), fontsize=8)"
   ]
  },
  {
   "cell_type": "markdown",
   "id": "27fac6cd",
   "metadata": {},
   "source": [
    "In each of the four plots, we have divided the graphs into four quadrants based on the mean of the x and y values. Here we  are most interested in the players in the the top half of the plots. The top-right quadrants contains the players that our base squad will most likely be made up of while the top-left quadrants contain the players who will make great differentials. This is by no means to say that players in the bottom half of the graphs should not be considered as they are still part of the high performing players dataframe. The plots, however, do act as a guide when making final decisions.\n",
    "\n",
    "Key takeaways:\n",
    "- **TP vs PPG**: The upper-right quadrant is dominated by mid-priced midfielders and premium defenders which is consistent with our analysis for high performing positions and price brackets\n",
    "- **TP vs Influence**: Players with high influence are the ones who are most likely to have the greatest impact on their teams outcomes. In the upper-right quadrant we find some of the best differentials from otherwise smaller teams such as Sa(Wolves), Gallagher(Palace) and Toney(Brentford).\n",
    "- **TP vs Bonus**: Bonus points can help to give you the edge in tight gameweeks. Here we see that midfielders and defenders dominate the upper-right quandrant while Alisson is the only goalkeeper in this quadrant.\n",
    "- **TP vs ICT Index**: This graph tells us that ICT Index is only useful for assessing forwards, midfielders and attacking defenders as there are no centre-backs in the upper-right quadrant. High performing centre backs are found in the upper-left quadrant."
   ]
  },
  {
   "cell_type": "markdown",
   "id": "fdf0e1e1",
   "metadata": {},
   "source": [
    "### Squad Selection:\n",
    "\n",
    "The final part is the squad selection based on the Points Per Game, Influence, Bonus and Value Season. We will build four different squads of 15 with high ranking players from each category. The maximum number of players per position constraint will be observed, however, the budget and maximum number of players per team will not. "
   ]
  },
  {
   "cell_type": "markdown",
   "id": "5e4ebe93",
   "metadata": {},
   "source": [
    "**Points Per Game Squad**"
   ]
  },
  {
   "cell_type": "code",
   "execution_count": null,
   "id": "7504eb0c",
   "metadata": {
    "scrolled": false
   },
   "outputs": [],
   "source": [
    "g = top_df[top_df['position'] == 'Goalkeeper'].sort_values(by='points_per_game', ascending=False).head(2)\n",
    "d = top_df[top_df['position'] == 'Defender'].sort_values(by='points_per_game', ascending=False).head(5)\n",
    "m = top_df[top_df['position'] == 'Midfielder'].sort_values(by='points_per_game', ascending=False).head(5)\n",
    "f = top_df[top_df['position'] == 'Forward'].sort_values(by='points_per_game', ascending=False).head(3)\n",
    "\n",
    "squad1_df = pd.concat([g,d,m,f])\n",
    "squad1_df"
   ]
  },
  {
   "cell_type": "markdown",
   "id": "03121cb4",
   "metadata": {},
   "source": [
    "**Value Season Squad**"
   ]
  },
  {
   "cell_type": "code",
   "execution_count": null,
   "id": "bd84bfbb",
   "metadata": {
    "scrolled": false
   },
   "outputs": [],
   "source": [
    "g = top_df[top_df['position'] == 'Goalkeeper'].sort_values(by='value_season', ascending=False).head(2)\n",
    "d = top_df[top_df['position'] == 'Defender'].sort_values(by='value_season', ascending=False).head(5)\n",
    "m = top_df[top_df['position'] == 'Midfielder'].sort_values(by='value_season', ascending=False).head(5)\n",
    "f = top_df[top_df['position'] == 'Forward'].sort_values(by='value_season', ascending=False).head(3)\n",
    "\n",
    "squad2_df = pd.concat([g,d,m,f])\n",
    "squad2_df"
   ]
  },
  {
   "cell_type": "markdown",
   "id": "5e1da9cc",
   "metadata": {
    "scrolled": true
   },
   "source": [
    "**Influence Squad**"
   ]
  },
  {
   "cell_type": "code",
   "execution_count": null,
   "id": "8e40df30",
   "metadata": {},
   "outputs": [],
   "source": [
    "g = top_df[top_df['position'] == 'Goalkeeper'].sort_values(by='influence', ascending=False).head(2)\n",
    "d = top_df[top_df['position'] == 'Defender'].sort_values(by='influence', ascending=False).head(5)\n",
    "m = top_df[top_df['position'] == 'Midfielder'].sort_values(by='influence', ascending=False).head(5)\n",
    "f = top_df[top_df['position'] == 'Forward'].sort_values(by='influence', ascending=False).head(3)\n",
    "\n",
    "squad3_df = pd.concat([g,d,m,f])\n",
    "squad3_df"
   ]
  },
  {
   "cell_type": "markdown",
   "id": "243c9859",
   "metadata": {
    "scrolled": true
   },
   "source": [
    "**Bonus Points Squad**"
   ]
  },
  {
   "cell_type": "code",
   "execution_count": null,
   "id": "c0773749",
   "metadata": {
    "scrolled": false
   },
   "outputs": [],
   "source": [
    "g = top_df[top_df['position'] == 'Goalkeeper'].sort_values(by='bonus', ascending=False).head(2)\n",
    "d = top_df[top_df['position'] == 'Defender'].sort_values(by='bonus', ascending=False).head(5)\n",
    "m = top_df[top_df['position'] == 'Midfielder'].sort_values(by='bonus', ascending=False).head(5)\n",
    "f = top_df[top_df['position'] == 'Forward'].sort_values(by='bonus', ascending=False).head(3)\n",
    "\n",
    "squad4_df = pd.concat([g,d,m,f])\n",
    "squad4_df"
   ]
  },
  {
   "cell_type": "markdown",
   "id": "6659300b",
   "metadata": {},
   "source": [
    "The four different squads allows us to assess the different options and compare the players using multiple categories to better optimize the final squad."
   ]
  },
  {
   "cell_type": "code",
   "execution_count": null,
   "id": "2f87c4a1",
   "metadata": {},
   "outputs": [],
   "source": [
    "print('PPG:', squad1_df['price'].sum())\n",
    "print('Value Season:', squad2_df['price'].sum())\n",
    "print('Influence:', squad3_df['price'].sum())\n",
    "print('Bonus' ,squad4_df['price'].sum())"
   ]
  },
  {
   "cell_type": "markdown",
   "id": "250876e6",
   "metadata": {},
   "source": [
    "## Conclusion:\n",
    "\n",
    "- We identified Liverpool, Chelsea, Man City, Spurs, Arsenal and West Ham as the best performing teams \n",
    "- Aston Villa, Crystal Palace, Brentford, and Wolves were identified as the teams with the best differentials last season.\n",
    "- High investments in the defense and midfield would have yielded the best returns over the course of last season.\n",
    "- Liverpool had the most high performing players in three out of four player squads.\n",
    "- Salah and Son were by far the best performing players last season.\n",
    "- Cash, Gallagher, Toney, Coady, Sa and Ward-Prowse were some of the best differential picks of the season.\n"
   ]
  }
 ],
 "metadata": {
  "interpreter": {
   "hash": "39d6ca181259f28173c4eebf1d46588cfcbb9c81cc8aa78edc727b29340a7c88"
  },
  "kernelspec": {
   "display_name": "Python 3 (ipykernel)",
   "language": "python",
   "name": "python3"
  },
  "language_info": {
   "codemirror_mode": {
    "name": "ipython",
    "version": 3
   },
   "file_extension": ".py",
   "mimetype": "text/x-python",
   "name": "python",
   "nbconvert_exporter": "python",
   "pygments_lexer": "ipython3",
   "version": "3.9.7"
  }
 },
 "nbformat": 4,
 "nbformat_minor": 5
}
