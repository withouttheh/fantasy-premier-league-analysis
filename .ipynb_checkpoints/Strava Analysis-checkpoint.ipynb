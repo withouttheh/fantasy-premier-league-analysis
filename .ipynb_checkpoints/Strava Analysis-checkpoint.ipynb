{
 "cells": [
  {
   "cell_type": "markdown",
   "id": "e631858e",
   "metadata": {},
   "source": [
    "# Analysis of Strava Data:\n",
    "\n",
    "Strava is a social network that was primarily created for cyclists but is now used by athletes from a multitude of disciplines. The majority being runners, and I am one of them. I joined Strava in 2019 to help me keep track of my running performance. Strava collects data about your activities and stores it for you. The Strava API provides a way to access this information providing a lot of useful data that can be analyzed and provide useful insights.\n",
    "\n",
    "**Questions:**\n",
    "- How far do I run on different days of the week?\n",
    "- How often do I run on different days of the week?\n",
    "- How far do I run on different days of the month?\n",
    "- How often do I run on different days of the month?\n",
    "- How far do I run on different months of the year?\n",
    "- How often do I run on different months of the year?\n",
    "- How many days do I rest compared to the days that I run?\n",
    "- Does my average speed change with distance?\n",
    "- Does my average speed change with elevation?\n",
    "- How has average distance changed over the years?\n",
    "- How has my elevation gain changed over the years?\n",
    "- What portion of my runs are short, medium and long?\n",
    "- What are my Top 10 fastest runs at 9-12km?\n",
    "- What are my Top 10 fastest runs at 13.5-18km?\n",
    "- What are my Top 10 fastest runs at 21km<?\n",
    "\n",
    "\n"
   ]
  },
  {
   "cell_type": "code",
   "execution_count": 1,
   "id": "8657469f",
   "metadata": {},
   "outputs": [],
   "source": [
    "import time\n",
    "import pickle\n",
    "import pandas as pd\n",
    "import numpy as np\n",
    "import sklearn\n",
    "import matplotlib\n",
    "import matplotlib.pyplot as plt\n",
    "import seaborn as sns\n",
    "\n",
    "import folium\n",
    "\n",
    "pd.set_option(\"display.max_columns\", 100)"
   ]
  },
  {
   "cell_type": "markdown",
   "id": "f73ff5d0",
   "metadata": {},
   "source": [
    "### 1. Consuming API and Data Loading"
   ]
  },
  {
   "cell_type": "code",
   "execution_count": 2,
   "id": "ef744b80",
   "metadata": {},
   "outputs": [],
   "source": [
    "MY_STRAVA_CLIENT_ID = 88625\n",
    "MY_STRAVA_CLIENT_SECRET = '1341826cebf90ed32a30cdcd30f7808b48cf2810'"
   ]
  },
  {
   "cell_type": "code",
   "execution_count": 3,
   "id": "8e69f629",
   "metadata": {},
   "outputs": [
    {
     "data": {
      "text/plain": [
       "'https://www.strava.com/oauth/authorize?client_id=88625&redirect_uri=http%3A%2F%2Flocalhost%2Fauthorization&approval_prompt=auto&response_type=code&scope=read_all%2Cprofile%3Aread_all%2Cactivity%3Aread_all'"
      ]
     },
     "execution_count": 3,
     "metadata": {},
     "output_type": "execute_result"
    }
   ],
   "source": [
    "from stravalib import Client\n",
    "\n",
    "client = Client()\n",
    "url = client.authorization_url(client_id=MY_STRAVA_CLIENT_ID,\n",
    "                               redirect_uri='http://localhost/authorization',\n",
    "                               scope=['read_all','profile:read_all','activity:read_all']\n",
    "                               )\n",
    "url"
   ]
  },
  {
   "cell_type": "code",
   "execution_count": 6,
   "id": "6cb04f91",
   "metadata": {},
   "outputs": [],
   "source": [
    "code = '8570fe4a0dfe41ae0b7819cb817cd08ff34b74a2'"
   ]
  },
  {
   "cell_type": "code",
   "execution_count": 7,
   "id": "6d625321",
   "metadata": {},
   "outputs": [],
   "source": [
    "from stravalib import Client\n",
    "client = Client()\n",
    "access_token = client.exchange_code_for_token(client_id=MY_STRAVA_CLIENT_ID,\n",
    "                                              client_secret=MY_STRAVA_CLIENT_SECRET,\n",
    "                                              code=code)"
   ]
  },
  {
   "cell_type": "code",
   "execution_count": 8,
   "id": "407512b5",
   "metadata": {},
   "outputs": [
    {
     "data": {
      "text/plain": [
       "'3c64aa418c33c92b37799a0ca576e5bfc4f62fed'"
      ]
     },
     "execution_count": 8,
     "metadata": {},
     "output_type": "execute_result"
    }
   ],
   "source": [
    "access_token['access_token']"
   ]
  },
  {
   "cell_type": "code",
   "execution_count": 9,
   "id": "97789888",
   "metadata": {},
   "outputs": [],
   "source": [
    "STORED_ACCESS_TOKEN = access_token['access_token']"
   ]
  },
  {
   "cell_type": "code",
   "execution_count": 10,
   "id": "7f57dc38",
   "metadata": {},
   "outputs": [
    {
     "name": "stderr",
     "output_type": "stream",
     "text": [
      "Unable to set attribute activity_types on entity <Club id=236434 name='East London and Eastern Cape Runners' resource_state=2>\n",
      "Unable to set attribute activity_types_icon on entity <Club id=236434 name='East London and Eastern Cape Runners' resource_state=2>\n",
      "Unable to set attribute dimensions on entity <Club id=236434 name='East London and Eastern Cape Runners' resource_state=2>\n",
      "Unable to set attribute activity_types on entity <Club id=51197 name='Old Selbornian Road Runners' resource_state=2>\n",
      "Unable to set attribute activity_types_icon on entity <Club id=51197 name='Old Selbornian Road Runners' resource_state=2>\n",
      "Unable to set attribute dimensions on entity <Club id=51197 name='Old Selbornian Road Runners' resource_state=2>\n",
      "Unable to set attribute activity_types on entity <Club id=255183 name='Strava South Africa Running' resource_state=2>\n",
      "Unable to set attribute activity_types_icon on entity <Club id=255183 name='Strava South Africa Running' resource_state=2>\n",
      "Unable to set attribute dimensions on entity <Club id=255183 name='Strava South Africa Running' resource_state=2>\n",
      "Unable to set attribute activity_types on entity <Club id=114814 name='Running The Cape' resource_state=2>\n",
      "Unable to set attribute activity_types_icon on entity <Club id=114814 name='Running The Cape' resource_state=2>\n",
      "Unable to set attribute dimensions on entity <Club id=114814 name='Running The Cape' resource_state=2>\n",
      "Unable to set attribute activity_types on entity <Club id=96542 name='UCT Athletics Club' resource_state=2>\n",
      "Unable to set attribute activity_types_icon on entity <Club id=96542 name='UCT Athletics Club' resource_state=2>\n",
      "Unable to set attribute dimensions on entity <Club id=96542 name='UCT Athletics Club' resource_state=2>\n",
      "Unable to set attribute activity_types on entity <Club id=286250 name='Oxford Striders' resource_state=2>\n",
      "Unable to set attribute activity_types_icon on entity <Club id=286250 name='Oxford Striders' resource_state=2>\n",
      "Unable to set attribute dimensions on entity <Club id=286250 name='Oxford Striders' resource_state=2>\n",
      "Unable to set attribute activity_types on entity <Club id=503695 name='Powerade Running Community' resource_state=2>\n",
      "Unable to set attribute activity_types_icon on entity <Club id=503695 name='Powerade Running Community' resource_state=2>\n",
      "Unable to set attribute dimensions on entity <Club id=503695 name='Powerade Running Community' resource_state=2>\n",
      "Unable to set attribute activity_types on entity <Club id=522073 name='Cape Town Marathon' resource_state=2>\n",
      "Unable to set attribute activity_types_icon on entity <Club id=522073 name='Cape Town Marathon' resource_state=2>\n",
      "Unable to set attribute dimensions on entity <Club id=522073 name='Cape Town Marathon' resource_state=2>\n",
      "Unable to set attribute activity_types on entity <Club id=233727 name=\"Runner's World\" resource_state=2>\n",
      "Unable to set attribute activity_types_icon on entity <Club id=233727 name=\"Runner's World\" resource_state=2>\n",
      "Unable to set attribute dimensions on entity <Club id=233727 name=\"Runner's World\" resource_state=2>\n",
      "Unable to set attribute activity_types on entity <Club id=125302 name='Nike Runners Club' resource_state=2>\n",
      "Unable to set attribute activity_types_icon on entity <Club id=125302 name='Nike Runners Club' resource_state=2>\n",
      "Unable to set attribute dimensions on entity <Club id=125302 name='Nike Runners Club' resource_state=2>\n",
      "Unable to set attribute activity_types on entity <Club id=150594 name='Wietse se Run' resource_state=2>\n",
      "Unable to set attribute activity_types_icon on entity <Club id=150594 name='Wietse se Run' resource_state=2>\n",
      "Unable to set attribute dimensions on entity <Club id=150594 name='Wietse se Run' resource_state=2>\n",
      "Unable to set attribute activity_types on entity <Club id=181657 name='Team Coach Parry' resource_state=2>\n",
      "Unable to set attribute activity_types_icon on entity <Club id=181657 name='Team Coach Parry' resource_state=2>\n",
      "Unable to set attribute dimensions on entity <Club id=181657 name='Team Coach Parry' resource_state=2>\n",
      "Unable to set attribute activity_types on entity <Club id=300194 name='Berlin Marathon ' resource_state=2>\n",
      "Unable to set attribute activity_types_icon on entity <Club id=300194 name='Berlin Marathon ' resource_state=2>\n",
      "Unable to set attribute dimensions on entity <Club id=300194 name='Berlin Marathon ' resource_state=2>\n",
      "Unable to set attribute activity_types on entity <Club id=144207 name='Run the Chicago Marathon' resource_state=2>\n",
      "Unable to set attribute activity_types_icon on entity <Club id=144207 name='Run the Chicago Marathon' resource_state=2>\n",
      "Unable to set attribute dimensions on entity <Club id=144207 name='Run the Chicago Marathon' resource_state=2>\n",
      "Unable to set attribute activity_types on entity <Club id=118924 name='Virgin Money London Marathon' resource_state=2>\n",
      "Unable to set attribute activity_types_icon on entity <Club id=118924 name='Virgin Money London Marathon' resource_state=2>\n",
      "Unable to set attribute dimensions on entity <Club id=118924 name='Virgin Money London Marathon' resource_state=2>\n",
      "Unable to set attribute activity_types on entity <Club id=801283 name='Amalinda Spar Running Group' resource_state=2>\n",
      "Unable to set attribute activity_types_icon on entity <Club id=801283 name='Amalinda Spar Running Group' resource_state=2>\n",
      "Unable to set attribute dimensions on entity <Club id=801283 name='Amalinda Spar Running Group' resource_state=2>\n",
      "Unable to set attribute activity_types on entity <Club id=231407 name='The Strava Club' resource_state=2>\n",
      "Unable to set attribute activity_types_icon on entity <Club id=231407 name='The Strava Club' resource_state=2>\n",
      "Unable to set attribute dimensions on entity <Club id=231407 name='The Strava Club' resource_state=2>\n",
      "Unable to set attribute activity_types on entity <Club id=476091 name='We Are Runners ~ WAR' resource_state=2>\n",
      "Unable to set attribute activity_types_icon on entity <Club id=476091 name='We Are Runners ~ WAR' resource_state=2>\n",
      "Unable to set attribute dimensions on entity <Club id=476091 name='We Are Runners ~ WAR' resource_state=2>\n"
     ]
    }
   ],
   "source": [
    "from stravalib import Client\n",
    "client = Client(access_token=STORED_ACCESS_TOKEN)\n",
    "athlete = client.get_athlete() # Get current athlete details"
   ]
  },
  {
   "cell_type": "code",
   "execution_count": 11,
   "id": "7f242c0d",
   "metadata": {},
   "outputs": [
    {
     "data": {
      "text/plain": [
       "[<Activity id=7326732574 name='Morning Run' resource_state=2>,\n",
       " <Activity id=7321995553 name='Morning Run' resource_state=2>,\n",
       " <Activity id=7300068156 name='Morning Run' resource_state=2>,\n",
       " <Activity id=7299926597 name='Morning Run' resource_state=2>,\n",
       " <Activity id=7283607499 name='Morning Run' resource_state=2>,\n",
       " <Activity id=7278509411 name='Morning Run' resource_state=2>,\n",
       " <Activity id=7278347678 name='Morning Run' resource_state=2>,\n",
       " <Activity id=7267802128 name='Morning Run' resource_state=2>,\n",
       " <Activity id=7267651771 name='Morning Run' resource_state=2>,\n",
       " <Activity id=7267660997 name='Morning Run' resource_state=2>]"
      ]
     },
     "execution_count": 11,
     "metadata": {},
     "output_type": "execute_result"
    }
   ],
   "source": [
    "activities = client.get_activities(limit=1000)\n",
    "list(activities)[0:10]\n"
   ]
  },
  {
   "cell_type": "code",
   "execution_count": 12,
   "id": "e7f2b46a",
   "metadata": {},
   "outputs": [
    {
     "data": {
      "text/plain": [
       "{'id': 7326732574,\n",
       " 'guid': None,\n",
       " 'external_id': 'c58d74da-c8ee-4f7f-9f3e-9c7379405282-activity.fit',\n",
       " 'upload_id': 7805660236,\n",
       " 'athlete': {'firstname': None,\n",
       "  'lastname': None,\n",
       "  'profile_medium': None,\n",
       "  'profile': None,\n",
       "  'city': None,\n",
       "  'state': None,\n",
       "  'country': None,\n",
       "  'sex': None,\n",
       "  'friend': None,\n",
       "  'follower': None,\n",
       "  'premium': None,\n",
       "  'summit': None,\n",
       "  'created_at': None,\n",
       "  'updated_at': None,\n",
       "  'approve_followers': None,\n",
       "  'badge_type_id': None,\n",
       "  'follower_count': None,\n",
       "  'friend_count': None,\n",
       "  'mutual_friend_count': None,\n",
       "  'athlete_type': None,\n",
       "  'date_preference': None,\n",
       "  'measurement_preference': None,\n",
       "  'email': None,\n",
       "  'clubs': None,\n",
       "  'bikes': None,\n",
       "  'shoes': None,\n",
       "  'super_user': None,\n",
       "  'email_language': None,\n",
       "  'weight': None,\n",
       "  'max_heartrate': None,\n",
       "  'username': None,\n",
       "  'description': None,\n",
       "  'instagram_username': None,\n",
       "  'offer_in_app_payment': None,\n",
       "  'global_privacy': None,\n",
       "  'receive_newsletter': None,\n",
       "  'email_kom_lost': None,\n",
       "  'dateofbirth': None,\n",
       "  'facebook_sharing_enabled': None,\n",
       "  'ftp': None,\n",
       "  'profile_original': None,\n",
       "  'premium_expiration_date': None,\n",
       "  'email_send_follower_notices': None,\n",
       "  'plan': None,\n",
       "  'agreed_to_terms': None,\n",
       "  'follower_request_count': None,\n",
       "  'email_facebook_twitter_friend_joins': None,\n",
       "  'receive_kudos_emails': None,\n",
       "  'receive_follower_feed_emails': None,\n",
       "  'receive_comment_emails': None,\n",
       "  'sample_race_distance': None,\n",
       "  'sample_race_time': None,\n",
       "  'membership': None,\n",
       "  'admin': None,\n",
       "  'owner': None,\n",
       "  'subscription_permissions': None,\n",
       "  'id': 28281639,\n",
       "  'resource_state': 1},\n",
       " 'name': 'Morning Run',\n",
       " 'distance': 13930.0,\n",
       " 'moving_time': 6228,\n",
       " 'elapsed_time': 6672,\n",
       " 'total_elevation_gain': 172.8,\n",
       " 'elev_high': 122.5,\n",
       " 'elev_low': 52.9,\n",
       " 'type': 'Run',\n",
       " 'start_date': '2022-06-18T04:03:53+00:00',\n",
       " 'start_date_local': '2022-06-18T06:03:53',\n",
       " 'timezone': 'Africa/Johannesburg',\n",
       " 'utc_offset': 7200.0,\n",
       " 'start_latlng': '-32.99376407638192,27.86816985346377',\n",
       " 'end_latlng': '-32.99297642894089,27.86717106588185',\n",
       " 'location_city': None,\n",
       " 'location_state': None,\n",
       " 'location_country': None,\n",
       " 'start_latitude': None,\n",
       " 'start_longitude': None,\n",
       " 'achievement_count': 1,\n",
       " 'pr_count': 0,\n",
       " 'kudos_count': 28,\n",
       " 'comment_count': 0,\n",
       " 'athlete_count': 3,\n",
       " 'photo_count': 0,\n",
       " 'total_photo_count': 0,\n",
       " 'map': {'id': 'a7326732574',\n",
       "  'polyline': None,\n",
       "  'summary_polyline': '`bkhEa_biDl@uAd@s@h@gBNYnAmDv@iB`@sAbCmGPWPs@Zu@rAsDr@aBLQhAkDT]t@mC\\\\aBPoB?sAOcDOkBKq@WaDIe@Ay@a@gF?a@g@qJE}Ba@}ECoBKy@?c@MwBEkBSmDA}BGi@Cm@BMDw@EQK{CBgAEo@Fk@@wAEyACQ@]Gi@@_@My@Ws@[sA[s@_AgD}@kFHUp@WHa@LU~@ODWAqAF]Se@YwA}@mDO_@o@oC[_BcBgGIq@g@qBi@]Sc@kBl@[EkAg@OSSk@YcBBSJSb@WFQp@Cv@UJKDEAc@Dk@Mi@a@gACa@Y_AUqAQeASwBB]?gABUCK@SEw@N}AM{@Hm@@e@AeBDYGa@D{@AQHu@EWFq@E[D]C_@DmBHw@Ei@Fe@CiBFaBEs@BqAFeAEiCFc@A}@FuBFs@@uBHqC?cAQQGo@SUg@MkAIMKS_@Kw@[qAIwAo@eFEo@g@iDCk@A_Ah@cG@g@PeBJc@JkBNeA@o@H_@AQDQNKND^l@XRTd@Nd@\\\\\\\\bBt@`GrBJ?HNBLInBIXIx@K`BWlA]dAIb@qBfFU`@q@`B_@bBEj@GjCGx@?vAKl@KlFEr@@rAA|CBv@HLKxA@d@Ep@@`@C`@B`@KnEBh@ItADt@CpABj@E\\\\H|@?RIXGb@AxADJA@?XG~ADfBKhDNbAWhA?r@Hr@Ar@D\\\\DFLbBLXHj@\\\\fAXxAh@vBHJ^tBd@lA`AhFh@vAZ`BJB@VRd@@ZJh@n@zBnA`FXxAPf@x@nDBd@EVIFgFnAcA^mCn@sAd@}@PkAj@{@bAaEvDiElEa@~@]RS\\\\?r@^pC\\\\`ATXdAjBjBhCl@l@T\\\\LBb@[NY`@WnBuBtAmAV_@nAcAhDkD`BuAvAgBt@w@PGb@@CAPZL^Ln@@b@PhABxBEf@EzCFh@@|@Dn@CbBTxDCt@FjAF^@lBJn@BpAJlAG^H~@?hAFd@C\\\\F~@Lr@JbB@`ARnCJzDZhCPzCJ^TpBEVFd@?ZVpBVdCF~@@dBEzAObAWlAq@`BOj@Sd@mAvDORKZHa@j@mANk@ANOh@c@r@G^c@`Ay@lCu@xAo@dBy@fCg@hAiAbDc@z@YbAyAvDe@j@QbA]h@St@Wh@EBCT]t@A\\\\MRUTYA',\n",
       "  'resource_state': 2},\n",
       " 'trainer': False,\n",
       " 'commute': False,\n",
       " 'manual': False,\n",
       " 'private': False,\n",
       " 'flagged': False,\n",
       " 'gear_id': None,\n",
       " 'gear': None,\n",
       " 'average_speed': 2.237,\n",
       " 'max_speed': 4.932,\n",
       " 'device_watts': None,\n",
       " 'has_kudoed': False,\n",
       " 'best_efforts': None,\n",
       " 'segment_efforts': None,\n",
       " 'splits_metric': None,\n",
       " 'splits_standard': None,\n",
       " 'average_watts': None,\n",
       " 'weighted_average_watts': None,\n",
       " 'max_watts': None,\n",
       " 'suffer_score': None,\n",
       " 'has_heartrate': False,\n",
       " 'average_heartrate': None,\n",
       " 'max_heartrate': None,\n",
       " 'average_cadence': None,\n",
       " 'kilojoules': None,\n",
       " 'average_temp': None,\n",
       " 'device_name': None,\n",
       " 'embed_token': None,\n",
       " 'calories': None,\n",
       " 'description': None,\n",
       " 'workout_type': 0,\n",
       " 'photos': None,\n",
       " 'instagram_primary_photo': None,\n",
       " 'partner_logo_url': None,\n",
       " 'partner_brand_tag': None,\n",
       " 'from_accepted_tag': False,\n",
       " 'segment_leaderboard_opt_out': None,\n",
       " 'highlighted_kudosers': None,\n",
       " 'laps': None,\n",
       " 'resource_state': 2}"
      ]
     },
     "execution_count": 12,
     "metadata": {},
     "output_type": "execute_result"
    }
   ],
   "source": [
    "sample = list(activities)[0]\n",
    "sample.to_dict()"
   ]
  },
  {
   "cell_type": "code",
   "execution_count": 13,
   "id": "75aa30fc",
   "metadata": {},
   "outputs": [],
   "source": [
    "cols = ['name',\n",
    "        'start_date_local',\n",
    "        'type',\n",
    "        'distance',\n",
    "        'moving_time',\n",
    "        'elapsed_time',\n",
    "        'total_elevation_gain',          \n",
    "        'elev_high',\n",
    "        'elev_low',\n",
    "        'average_speed',\n",
    "        'max_speed',\n",
    "        'average_heartrate',\n",
    "        'max_heartrate',\n",
    "        'start_latitude',\n",
    "        'start_longitude']"
   ]
  },
  {
   "cell_type": "code",
   "execution_count": 14,
   "id": "f582a50f",
   "metadata": {},
   "outputs": [],
   "source": [
    "data = []\n",
    "for activity in activities:\n",
    "    my_dict = activity.to_dict()\n",
    "    data.append([activity.id]+[my_dict.get(x) for x in cols])\n",
    "    \n",
    "cols.insert(0,'id')"
   ]
  },
  {
   "cell_type": "code",
   "execution_count": 15,
   "id": "16617203",
   "metadata": {},
   "outputs": [],
   "source": [
    "df = pd.DataFrame(data, columns=cols)"
   ]
  },
  {
   "cell_type": "markdown",
   "id": "76a17a05",
   "metadata": {},
   "source": [
    "### 2. Data Cleaning and Preparation"
   ]
  },
  {
   "cell_type": "code",
   "execution_count": 16,
   "id": "9055f8f5",
   "metadata": {},
   "outputs": [
    {
     "data": {
      "text/html": [
       "<div>\n",
       "<style scoped>\n",
       "    .dataframe tbody tr th:only-of-type {\n",
       "        vertical-align: middle;\n",
       "    }\n",
       "\n",
       "    .dataframe tbody tr th {\n",
       "        vertical-align: top;\n",
       "    }\n",
       "\n",
       "    .dataframe thead th {\n",
       "        text-align: right;\n",
       "    }\n",
       "</style>\n",
       "<table border=\"1\" class=\"dataframe\">\n",
       "  <thead>\n",
       "    <tr style=\"text-align: right;\">\n",
       "      <th></th>\n",
       "      <th>id</th>\n",
       "      <th>name</th>\n",
       "      <th>start_date_local</th>\n",
       "      <th>type</th>\n",
       "      <th>distance</th>\n",
       "      <th>moving_time</th>\n",
       "      <th>elapsed_time</th>\n",
       "      <th>total_elevation_gain</th>\n",
       "      <th>elev_high</th>\n",
       "      <th>elev_low</th>\n",
       "      <th>average_speed</th>\n",
       "      <th>max_speed</th>\n",
       "      <th>average_heartrate</th>\n",
       "      <th>max_heartrate</th>\n",
       "      <th>start_latitude</th>\n",
       "      <th>start_longitude</th>\n",
       "    </tr>\n",
       "  </thead>\n",
       "  <tbody>\n",
       "    <tr>\n",
       "      <th>0</th>\n",
       "      <td>7326732574</td>\n",
       "      <td>Morning Run</td>\n",
       "      <td>2022-06-18T06:03:53</td>\n",
       "      <td>Run</td>\n",
       "      <td>13930.0</td>\n",
       "      <td>6228</td>\n",
       "      <td>6672</td>\n",
       "      <td>172.8</td>\n",
       "      <td>122.5</td>\n",
       "      <td>52.9</td>\n",
       "      <td>2.237</td>\n",
       "      <td>4.932</td>\n",
       "      <td>None</td>\n",
       "      <td>None</td>\n",
       "      <td>None</td>\n",
       "      <td>None</td>\n",
       "    </tr>\n",
       "    <tr>\n",
       "      <th>1</th>\n",
       "      <td>7321995553</td>\n",
       "      <td>Morning Run</td>\n",
       "      <td>2022-06-17T04:55:01</td>\n",
       "      <td>Run</td>\n",
       "      <td>10000.0</td>\n",
       "      <td>4200</td>\n",
       "      <td>4200</td>\n",
       "      <td>0.0</td>\n",
       "      <td>NaN</td>\n",
       "      <td>NaN</td>\n",
       "      <td>2.381</td>\n",
       "      <td>0.000</td>\n",
       "      <td>None</td>\n",
       "      <td>None</td>\n",
       "      <td>None</td>\n",
       "      <td>None</td>\n",
       "    </tr>\n",
       "    <tr>\n",
       "      <th>2</th>\n",
       "      <td>7300068156</td>\n",
       "      <td>Morning Run</td>\n",
       "      <td>2022-06-13T05:00:49</td>\n",
       "      <td>Run</td>\n",
       "      <td>11256.1</td>\n",
       "      <td>4345</td>\n",
       "      <td>4545</td>\n",
       "      <td>136.6</td>\n",
       "      <td>122.5</td>\n",
       "      <td>65.8</td>\n",
       "      <td>2.591</td>\n",
       "      <td>4.680</td>\n",
       "      <td>None</td>\n",
       "      <td>None</td>\n",
       "      <td>None</td>\n",
       "      <td>None</td>\n",
       "    </tr>\n",
       "    <tr>\n",
       "      <th>3</th>\n",
       "      <td>7299926597</td>\n",
       "      <td>Morning Run</td>\n",
       "      <td>2022-06-11T06:00:09</td>\n",
       "      <td>Run</td>\n",
       "      <td>10933.3</td>\n",
       "      <td>4920</td>\n",
       "      <td>4920</td>\n",
       "      <td>0.0</td>\n",
       "      <td>NaN</td>\n",
       "      <td>NaN</td>\n",
       "      <td>2.222</td>\n",
       "      <td>0.000</td>\n",
       "      <td>None</td>\n",
       "      <td>None</td>\n",
       "      <td>None</td>\n",
       "      <td>None</td>\n",
       "    </tr>\n",
       "    <tr>\n",
       "      <th>4</th>\n",
       "      <td>7283607499</td>\n",
       "      <td>Morning Run</td>\n",
       "      <td>2022-06-10T05:01:26</td>\n",
       "      <td>Run</td>\n",
       "      <td>10003.0</td>\n",
       "      <td>3661</td>\n",
       "      <td>3831</td>\n",
       "      <td>105.3</td>\n",
       "      <td>189.8</td>\n",
       "      <td>122.4</td>\n",
       "      <td>2.732</td>\n",
       "      <td>5.476</td>\n",
       "      <td>None</td>\n",
       "      <td>None</td>\n",
       "      <td>None</td>\n",
       "      <td>None</td>\n",
       "    </tr>\n",
       "  </tbody>\n",
       "</table>\n",
       "</div>"
      ],
      "text/plain": [
       "           id         name     start_date_local type  distance  moving_time  \\\n",
       "0  7326732574  Morning Run  2022-06-18T06:03:53  Run   13930.0         6228   \n",
       "1  7321995553  Morning Run  2022-06-17T04:55:01  Run   10000.0         4200   \n",
       "2  7300068156  Morning Run  2022-06-13T05:00:49  Run   11256.1         4345   \n",
       "3  7299926597  Morning Run  2022-06-11T06:00:09  Run   10933.3         4920   \n",
       "4  7283607499  Morning Run  2022-06-10T05:01:26  Run   10003.0         3661   \n",
       "\n",
       "   elapsed_time  total_elevation_gain  elev_high  elev_low  average_speed  \\\n",
       "0          6672                 172.8      122.5      52.9          2.237   \n",
       "1          4200                   0.0        NaN       NaN          2.381   \n",
       "2          4545                 136.6      122.5      65.8          2.591   \n",
       "3          4920                   0.0        NaN       NaN          2.222   \n",
       "4          3831                 105.3      189.8     122.4          2.732   \n",
       "\n",
       "   max_speed average_heartrate max_heartrate start_latitude start_longitude  \n",
       "0      4.932              None          None           None            None  \n",
       "1      0.000              None          None           None            None  \n",
       "2      4.680              None          None           None            None  \n",
       "3      0.000              None          None           None            None  \n",
       "4      5.476              None          None           None            None  "
      ]
     },
     "execution_count": 16,
     "metadata": {},
     "output_type": "execute_result"
    }
   ],
   "source": [
    "df.head()"
   ]
  },
  {
   "cell_type": "code",
   "execution_count": 17,
   "id": "24282c1f",
   "metadata": {},
   "outputs": [],
   "source": [
    "#Remove duplicate id column\n",
    "df = df.iloc[:,1:]"
   ]
  },
  {
   "cell_type": "code",
   "execution_count": 18,
   "id": "f2d5472e",
   "metadata": {
    "scrolled": true
   },
   "outputs": [
    {
     "data": {
      "text/html": [
       "<div>\n",
       "<style scoped>\n",
       "    .dataframe tbody tr th:only-of-type {\n",
       "        vertical-align: middle;\n",
       "    }\n",
       "\n",
       "    .dataframe tbody tr th {\n",
       "        vertical-align: top;\n",
       "    }\n",
       "\n",
       "    .dataframe thead th {\n",
       "        text-align: right;\n",
       "    }\n",
       "</style>\n",
       "<table border=\"1\" class=\"dataframe\">\n",
       "  <thead>\n",
       "    <tr style=\"text-align: right;\">\n",
       "      <th></th>\n",
       "      <th>name</th>\n",
       "      <th>start_date_local</th>\n",
       "      <th>type</th>\n",
       "      <th>distance</th>\n",
       "      <th>moving_time</th>\n",
       "      <th>elapsed_time</th>\n",
       "      <th>total_elevation_gain</th>\n",
       "      <th>elev_high</th>\n",
       "      <th>elev_low</th>\n",
       "      <th>average_speed</th>\n",
       "      <th>max_speed</th>\n",
       "    </tr>\n",
       "  </thead>\n",
       "  <tbody>\n",
       "    <tr>\n",
       "      <th>0</th>\n",
       "      <td>Morning Run</td>\n",
       "      <td>2022-06-18T06:03:53</td>\n",
       "      <td>Run</td>\n",
       "      <td>13930.0</td>\n",
       "      <td>6228</td>\n",
       "      <td>6672</td>\n",
       "      <td>172.8</td>\n",
       "      <td>122.5</td>\n",
       "      <td>52.9</td>\n",
       "      <td>2.237</td>\n",
       "      <td>4.932</td>\n",
       "    </tr>\n",
       "  </tbody>\n",
       "</table>\n",
       "</div>"
      ],
      "text/plain": [
       "          name     start_date_local type  distance  moving_time  elapsed_time  \\\n",
       "0  Morning Run  2022-06-18T06:03:53  Run   13930.0         6228          6672   \n",
       "\n",
       "   total_elevation_gain  elev_high  elev_low  average_speed  max_speed  \n",
       "0                 172.8      122.5      52.9          2.237      4.932  "
      ]
     },
     "execution_count": 18,
     "metadata": {},
     "output_type": "execute_result"
    }
   ],
   "source": [
    "#Remove last four columns\n",
    "df = df.iloc[:,:-4]\n",
    "df.head(1)"
   ]
  },
  {
   "cell_type": "code",
   "execution_count": 19,
   "id": "9d56eca1",
   "metadata": {},
   "outputs": [
    {
     "name": "stdout",
     "output_type": "stream",
     "text": [
      "<class 'pandas.core.frame.DataFrame'>\n",
      "RangeIndex: 642 entries, 0 to 641\n",
      "Data columns (total 11 columns):\n",
      " #   Column                Non-Null Count  Dtype  \n",
      "---  ------                --------------  -----  \n",
      " 0   name                  642 non-null    object \n",
      " 1   start_date_local      642 non-null    object \n",
      " 2   type                  642 non-null    object \n",
      " 3   distance              642 non-null    float64\n",
      " 4   moving_time           642 non-null    int64  \n",
      " 5   elapsed_time          642 non-null    int64  \n",
      " 6   total_elevation_gain  642 non-null    float64\n",
      " 7   elev_high             565 non-null    float64\n",
      " 8   elev_low              565 non-null    float64\n",
      " 9   average_speed         642 non-null    float64\n",
      " 10  max_speed             642 non-null    float64\n",
      "dtypes: float64(6), int64(2), object(3)\n",
      "memory usage: 55.3+ KB\n"
     ]
    }
   ],
   "source": [
    "df.info()"
   ]
  },
  {
   "cell_type": "code",
   "execution_count": 20,
   "id": "567685f8",
   "metadata": {},
   "outputs": [],
   "source": [
    "#Convert to start_date to date\n",
    "\n",
    "df['start_date_local']= pd.to_datetime(df['start_date_local'])"
   ]
  },
  {
   "cell_type": "code",
   "execution_count": 21,
   "id": "fbb617e7",
   "metadata": {},
   "outputs": [],
   "source": [
    "#Create day, month, year columns\n",
    "df['day'] = df['start_date_local'].dt.day_name()\n",
    "df['month'] = df['start_date_local'].dt.month_name()\n",
    "df['year'] = df['start_date_local'].dt.year"
   ]
  },
  {
   "cell_type": "code",
   "execution_count": 22,
   "id": "624f676a",
   "metadata": {},
   "outputs": [],
   "source": [
    "#Create hour columns and convert seconds to hour equivalent\n",
    "df['moving_time_hr'] = round((df['moving_time'] / 3600), 3)\n",
    "df['elapsed_time_hr'] = round((df['elapsed_time'] / 3600), 3)"
   ]
  },
  {
   "cell_type": "code",
   "execution_count": 23,
   "id": "456ed676",
   "metadata": {},
   "outputs": [],
   "source": [
    "#Convert to time\n",
    "df['moving_time'] = pd.to_timedelta(df['moving_time'], unit='s')\n",
    "df['elapsed_time'] = pd.to_timedelta(df['elapsed_time'], unit='s')"
   ]
  },
  {
   "cell_type": "code",
   "execution_count": 24,
   "id": "0252cb9b",
   "metadata": {},
   "outputs": [],
   "source": [
    "#Create distance km column\n",
    "df['distance_km'] = df['distance'] / 1000"
   ]
  },
  {
   "cell_type": "code",
   "execution_count": 25,
   "id": "496b7261",
   "metadata": {},
   "outputs": [
    {
     "name": "stderr",
     "output_type": "stream",
     "text": [
      "C:\\Users\\LUTOSI~1\\AppData\\Local\\Temp/ipykernel_17988/1367784280.py:2: FutureWarning: DataFrame.mean and DataFrame.median with numeric_only=None will include datetime64 and datetime64tz columns in a future version.\n",
      "  df = df.fillna(df.mean()['elev_high':'elev_low'])\n",
      "C:\\Users\\LUTOSI~1\\AppData\\Local\\Temp/ipykernel_17988/1367784280.py:2: FutureWarning: Dropping of nuisance columns in DataFrame reductions (with 'numeric_only=None') is deprecated; in a future version this will raise TypeError.  Select only valid columns before calling the reduction.\n",
      "  df = df.fillna(df.mean()['elev_high':'elev_low'])\n"
     ]
    }
   ],
   "source": [
    "#Fill NA elevations with mean\n",
    "df = df.fillna(df.mean()['elev_high':'elev_low'])"
   ]
  },
  {
   "cell_type": "code",
   "execution_count": 26,
   "id": "1ac23da3",
   "metadata": {},
   "outputs": [],
   "source": [
    "#Set 0 elevation gain as mean\n",
    "\n",
    "the_mean = df['total_elevation_gain'].mean()\n",
    "df['total_elevation_gain'] = df['total_elevation_gain'].apply(lambda x: the_mean if x == 0 else x)\n"
   ]
  },
  {
   "cell_type": "code",
   "execution_count": 27,
   "id": "703b613b",
   "metadata": {
    "scrolled": true
   },
   "outputs": [
    {
     "data": {
      "text/html": [
       "<div>\n",
       "<style scoped>\n",
       "    .dataframe tbody tr th:only-of-type {\n",
       "        vertical-align: middle;\n",
       "    }\n",
       "\n",
       "    .dataframe tbody tr th {\n",
       "        vertical-align: top;\n",
       "    }\n",
       "\n",
       "    .dataframe thead th {\n",
       "        text-align: right;\n",
       "    }\n",
       "</style>\n",
       "<table border=\"1\" class=\"dataframe\">\n",
       "  <thead>\n",
       "    <tr style=\"text-align: right;\">\n",
       "      <th></th>\n",
       "      <th>name</th>\n",
       "      <th>start_date_local</th>\n",
       "      <th>type</th>\n",
       "      <th>distance</th>\n",
       "      <th>moving_time</th>\n",
       "      <th>elapsed_time</th>\n",
       "      <th>total_elevation_gain</th>\n",
       "      <th>elev_high</th>\n",
       "      <th>elev_low</th>\n",
       "      <th>average_speed</th>\n",
       "      <th>max_speed</th>\n",
       "      <th>day</th>\n",
       "      <th>month</th>\n",
       "      <th>year</th>\n",
       "      <th>moving_time_hr</th>\n",
       "      <th>elapsed_time_hr</th>\n",
       "      <th>distance_km</th>\n",
       "    </tr>\n",
       "  </thead>\n",
       "  <tbody>\n",
       "    <tr>\n",
       "      <th>0</th>\n",
       "      <td>Morning Run</td>\n",
       "      <td>2022-06-18 06:03:53</td>\n",
       "      <td>Run</td>\n",
       "      <td>13930.0</td>\n",
       "      <td>0 days 01:43:48</td>\n",
       "      <td>0 days 01:51:12</td>\n",
       "      <td>172.800000</td>\n",
       "      <td>122.500000</td>\n",
       "      <td>52.900000</td>\n",
       "      <td>2.237</td>\n",
       "      <td>4.932</td>\n",
       "      <td>Saturday</td>\n",
       "      <td>June</td>\n",
       "      <td>2022</td>\n",
       "      <td>1.730</td>\n",
       "      <td>1.853</td>\n",
       "      <td>13.9300</td>\n",
       "    </tr>\n",
       "    <tr>\n",
       "      <th>1</th>\n",
       "      <td>Morning Run</td>\n",
       "      <td>2022-06-17 04:55:01</td>\n",
       "      <td>Run</td>\n",
       "      <td>10000.0</td>\n",
       "      <td>0 days 01:10:00</td>\n",
       "      <td>0 days 01:10:00</td>\n",
       "      <td>110.114798</td>\n",
       "      <td>125.959646</td>\n",
       "      <td>70.555929</td>\n",
       "      <td>2.381</td>\n",
       "      <td>0.000</td>\n",
       "      <td>Friday</td>\n",
       "      <td>June</td>\n",
       "      <td>2022</td>\n",
       "      <td>1.167</td>\n",
       "      <td>1.167</td>\n",
       "      <td>10.0000</td>\n",
       "    </tr>\n",
       "    <tr>\n",
       "      <th>2</th>\n",
       "      <td>Morning Run</td>\n",
       "      <td>2022-06-13 05:00:49</td>\n",
       "      <td>Run</td>\n",
       "      <td>11256.1</td>\n",
       "      <td>0 days 01:12:25</td>\n",
       "      <td>0 days 01:15:45</td>\n",
       "      <td>136.600000</td>\n",
       "      <td>122.500000</td>\n",
       "      <td>65.800000</td>\n",
       "      <td>2.591</td>\n",
       "      <td>4.680</td>\n",
       "      <td>Monday</td>\n",
       "      <td>June</td>\n",
       "      <td>2022</td>\n",
       "      <td>1.207</td>\n",
       "      <td>1.262</td>\n",
       "      <td>11.2561</td>\n",
       "    </tr>\n",
       "    <tr>\n",
       "      <th>3</th>\n",
       "      <td>Morning Run</td>\n",
       "      <td>2022-06-11 06:00:09</td>\n",
       "      <td>Run</td>\n",
       "      <td>10933.3</td>\n",
       "      <td>0 days 01:22:00</td>\n",
       "      <td>0 days 01:22:00</td>\n",
       "      <td>110.114798</td>\n",
       "      <td>125.959646</td>\n",
       "      <td>70.555929</td>\n",
       "      <td>2.222</td>\n",
       "      <td>0.000</td>\n",
       "      <td>Saturday</td>\n",
       "      <td>June</td>\n",
       "      <td>2022</td>\n",
       "      <td>1.367</td>\n",
       "      <td>1.367</td>\n",
       "      <td>10.9333</td>\n",
       "    </tr>\n",
       "    <tr>\n",
       "      <th>4</th>\n",
       "      <td>Morning Run</td>\n",
       "      <td>2022-06-10 05:01:26</td>\n",
       "      <td>Run</td>\n",
       "      <td>10003.0</td>\n",
       "      <td>0 days 01:01:01</td>\n",
       "      <td>0 days 01:03:51</td>\n",
       "      <td>105.300000</td>\n",
       "      <td>189.800000</td>\n",
       "      <td>122.400000</td>\n",
       "      <td>2.732</td>\n",
       "      <td>5.476</td>\n",
       "      <td>Friday</td>\n",
       "      <td>June</td>\n",
       "      <td>2022</td>\n",
       "      <td>1.017</td>\n",
       "      <td>1.064</td>\n",
       "      <td>10.0030</td>\n",
       "    </tr>\n",
       "  </tbody>\n",
       "</table>\n",
       "</div>"
      ],
      "text/plain": [
       "          name    start_date_local type  distance     moving_time  \\\n",
       "0  Morning Run 2022-06-18 06:03:53  Run   13930.0 0 days 01:43:48   \n",
       "1  Morning Run 2022-06-17 04:55:01  Run   10000.0 0 days 01:10:00   \n",
       "2  Morning Run 2022-06-13 05:00:49  Run   11256.1 0 days 01:12:25   \n",
       "3  Morning Run 2022-06-11 06:00:09  Run   10933.3 0 days 01:22:00   \n",
       "4  Morning Run 2022-06-10 05:01:26  Run   10003.0 0 days 01:01:01   \n",
       "\n",
       "     elapsed_time  total_elevation_gain   elev_high    elev_low  \\\n",
       "0 0 days 01:51:12            172.800000  122.500000   52.900000   \n",
       "1 0 days 01:10:00            110.114798  125.959646   70.555929   \n",
       "2 0 days 01:15:45            136.600000  122.500000   65.800000   \n",
       "3 0 days 01:22:00            110.114798  125.959646   70.555929   \n",
       "4 0 days 01:03:51            105.300000  189.800000  122.400000   \n",
       "\n",
       "   average_speed  max_speed       day month  year  moving_time_hr  \\\n",
       "0          2.237      4.932  Saturday  June  2022           1.730   \n",
       "1          2.381      0.000    Friday  June  2022           1.167   \n",
       "2          2.591      4.680    Monday  June  2022           1.207   \n",
       "3          2.222      0.000  Saturday  June  2022           1.367   \n",
       "4          2.732      5.476    Friday  June  2022           1.017   \n",
       "\n",
       "   elapsed_time_hr  distance_km  \n",
       "0            1.853      13.9300  \n",
       "1            1.167      10.0000  \n",
       "2            1.262      11.2561  \n",
       "3            1.367      10.9333  \n",
       "4            1.064      10.0030  "
      ]
     },
     "execution_count": 27,
     "metadata": {},
     "output_type": "execute_result"
    }
   ],
   "source": [
    "df.head()"
   ]
  },
  {
   "cell_type": "code",
   "execution_count": 28,
   "id": "c461500b",
   "metadata": {},
   "outputs": [],
   "source": [
    "#Store data\n",
    "df.to_csv('strava_data.csv')"
   ]
  },
  {
   "cell_type": "code",
   "execution_count": 31,
   "id": "3aee33c9",
   "metadata": {},
   "outputs": [],
   "source": []
  },
  {
   "cell_type": "code",
   "execution_count": 32,
   "id": "1665657a",
   "metadata": {},
   "outputs": [],
   "source": [
    "reg_model = LinearRegression()"
   ]
  },
  {
   "cell_type": "code",
   "execution_count": 129,
   "id": "b2f9be08",
   "metadata": {},
   "outputs": [],
   "source": [
    "#df2 = df.loc[(df['year'] == 2022)]"
   ]
  },
  {
   "cell_type": "code",
   "execution_count": 135,
   "id": "0a30ee1b",
   "metadata": {},
   "outputs": [],
   "source": [
    "X = np.c_[df[\"distance_km\"]]\n",
    "y = np.c_[df[\"moving_time_hr\"]]"
   ]
  },
  {
   "cell_type": "code",
   "execution_count": 136,
   "id": "42aca9c8",
   "metadata": {},
   "outputs": [
    {
     "data": {
      "image/png": "[encoded data removed]",
      "text/plain": [
       "<Figure size 432x288 with 1 Axes>"
      ]
     },
     "metadata": {
      "needs_background": "light"
     },
     "output_type": "display_data"
    }
   ],
   "source": [
    "df.plot(kind='scatter', x=\"distance_km\", y='moving_time_hr')\n",
    "plt.show()"
   ]
  },
  {
   "cell_type": "code",
   "execution_count": 137,
   "id": "f340b90d",
   "metadata": {},
   "outputs": [
    {
     "data": {
      "text/html": [
       "<style>#sk-container-id-14 {color: black;background-color: white;}#sk-container-id-14 pre{padding: 0;}#sk-container-id-14 div.sk-toggleable {background-color: white;}#sk-container-id-14 label.sk-toggleable__label {cursor: pointer;display: block;width: 100%;margin-bottom: 0;padding: 0.3em;box-sizing: border-box;text-align: center;}#sk-container-id-14 label.sk-toggleable__label-arrow:before {content: \"▸\";float: left;margin-right: 0.25em;color: #696969;}#sk-container-id-14 label.sk-toggleable__label-arrow:hover:before {color: black;}#sk-container-id-14 div.sk-estimator:hover label.sk-toggleable__label-arrow:before {color: black;}#sk-container-id-14 div.sk-toggleable__content {max-height: 0;max-width: 0;overflow: hidden;text-align: left;background-color: #f0f8ff;}#sk-container-id-14 div.sk-toggleable__content pre {margin: 0.2em;color: black;border-radius: 0.25em;background-color: #f0f8ff;}#sk-container-id-14 input.sk-toggleable__control:checked~div.sk-toggleable__content {max-height: 200px;max-width: 100%;overflow: auto;}#sk-container-id-14 input.sk-toggleable__control:checked~label.sk-toggleable__label-arrow:before {content: \"▾\";}#sk-container-id-14 div.sk-estimator input.sk-toggleable__control:checked~label.sk-toggleable__label {background-color: #d4ebff;}#sk-container-id-14 div.sk-label input.sk-toggleable__control:checked~label.sk-toggleable__label {background-color: #d4ebff;}#sk-container-id-14 input.sk-hidden--visually {border: 0;clip: rect(1px 1px 1px 1px);clip: rect(1px, 1px, 1px, 1px);height: 1px;margin: -1px;overflow: hidden;padding: 0;position: absolute;width: 1px;}#sk-container-id-14 div.sk-estimator {font-family: monospace;background-color: #f0f8ff;border: 1px dotted black;border-radius: 0.25em;box-sizing: border-box;margin-bottom: 0.5em;}#sk-container-id-14 div.sk-estimator:hover {background-color: #d4ebff;}#sk-container-id-14 div.sk-parallel-item::after {content: \"\";width: 100%;border-bottom: 1px solid gray;flex-grow: 1;}#sk-container-id-14 div.sk-label:hover label.sk-toggleable__label {background-color: #d4ebff;}#sk-container-id-14 div.sk-serial::before {content: \"\";position: absolute;border-left: 1px solid gray;box-sizing: border-box;top: 0;bottom: 0;left: 50%;z-index: 0;}#sk-container-id-14 div.sk-serial {display: flex;flex-direction: column;align-items: center;background-color: white;padding-right: 0.2em;padding-left: 0.2em;position: relative;}#sk-container-id-14 div.sk-item {position: relative;z-index: 1;}#sk-container-id-14 div.sk-parallel {display: flex;align-items: stretch;justify-content: center;background-color: white;position: relative;}#sk-container-id-14 div.sk-item::before, #sk-container-id-14 div.sk-parallel-item::before {content: \"\";position: absolute;border-left: 1px solid gray;box-sizing: border-box;top: 0;bottom: 0;left: 50%;z-index: -1;}#sk-container-id-14 div.sk-parallel-item {display: flex;flex-direction: column;z-index: 1;position: relative;background-color: white;}#sk-container-id-14 div.sk-parallel-item:first-child::after {align-self: flex-end;width: 50%;}#sk-container-id-14 div.sk-parallel-item:last-child::after {align-self: flex-start;width: 50%;}#sk-container-id-14 div.sk-parallel-item:only-child::after {width: 0;}#sk-container-id-14 div.sk-dashed-wrapped {border: 1px dashed gray;margin: 0 0.4em 0.5em 0.4em;box-sizing: border-box;padding-bottom: 0.4em;background-color: white;}#sk-container-id-14 div.sk-label label {font-family: monospace;font-weight: bold;display: inline-block;line-height: 1.2em;}#sk-container-id-14 div.sk-label-container {text-align: center;}#sk-container-id-14 div.sk-container {/* jupyter's `normalize.less` sets `[hidden] { display: none; }` but bootstrap.min.css set `[hidden] { display: none !important; }` so we also need the `!important` here to be able to override the default hidden behavior on the sphinx rendered scikit-learn.org. See: https://github.com/scikit-learn/scikit-learn/issues/21755 */display: inline-block !important;position: relative;}#sk-container-id-14 div.sk-text-repr-fallback {display: none;}</style><div id=\"sk-container-id-14\" class=\"sk-top-container\"><div class=\"sk-text-repr-fallback\"><pre>LinearRegression()</pre><b>In a Jupyter environment, please rerun this cell to show the HTML representation or trust the notebook. <br />On GitHub, the HTML representation is unable to render, please try loading this page with nbviewer.org.</b></div><div class=\"sk-container\" hidden><div class=\"sk-item\"><div class=\"sk-estimator sk-toggleable\"><input class=\"sk-toggleable__control sk-hidden--visually\" id=\"sk-estimator-id-14\" type=\"checkbox\" checked><label for=\"sk-estimator-id-14\" class=\"sk-toggleable__label sk-toggleable__label-arrow\">LinearRegression</label><div class=\"sk-toggleable__content\"><pre>LinearRegression()</pre></div></div></div></div></div>"
      ],
      "text/plain": [
       "LinearRegression()"
      ]
     },
     "execution_count": 137,
     "metadata": {},
     "output_type": "execute_result"
    }
   ],
   "source": [
    "reg_model.fit(X, y)"
   ]
  },
  {
   "cell_type": "code",
   "execution_count": 138,
   "id": "353afe9c",
   "metadata": {},
   "outputs": [
    {
     "data": {
      "text/plain": [
       "2.307879922745288"
      ]
     },
     "execution_count": 138,
     "metadata": {},
     "output_type": "execute_result"
    }
   ],
   "source": [
    "#Half Marathon distance\n",
    "X_new = [[21.1]] \n",
    "est_finish_time = reg_model.predict(X_new)[0][0]\n",
    "est_finish_time "
   ]
  },
  {
   "cell_type": "code",
   "execution_count": 139,
   "id": "acb426ef",
   "metadata": {},
   "outputs": [
    {
     "data": {
      "text/plain": [
       "Timedelta('0 days 02:18:28.367722800')"
      ]
     },
     "execution_count": 139,
     "metadata": {},
     "output_type": "execute_result"
    }
   ],
   "source": [
    "pd.to_timedelta((est_finish_time / 1.0), unit='h')"
   ]
  },
  {
   "cell_type": "code",
   "execution_count": null,
   "id": "3c888430",
   "metadata": {},
   "outputs": [],
   "source": []
  }
 ],
 "metadata": {
  "kernelspec": {
   "display_name": "Python 3 (ipykernel)",
   "language": "python",
   "name": "python3"
  },
  "language_info": {
   "codemirror_mode": {
    "name": "ipython",
    "version": 3
   },
   "file_extension": ".py",
   "mimetype": "text/x-python",
   "name": "python",
   "nbconvert_exporter": "python",
   "pygments_lexer": "ipython3",
   "version": "3.9.7"
  }
 },
 "nbformat": 4,
 "nbformat_minor": 5
}
