{
 "cells": [
  {
   "cell_type": "markdown",
   "id": "34a95ebd",
   "metadata": {},
   "source": [
    "# Fantasy Premier League 2021/2022 Season Analysis:\n",
    "\n",
    "**About the game**: Fantasy Premier League (FPL) is a game played by 8m+ people globally and points are scored based on real-life outcomes in the English Premier League. Each FPL manager is given a starting budget of £100 million and must pick a total of 15 players: two goalkeepers, five defenders, five midfielders and three forwards. You are limited to a maximum of three players from each Premier League team. Players in your team score points based on real-life performances with the main contributors to points totals being goals, assists (attacking returns) and cleansheets (defensive returns).\n",
    "\n",
    "The FPL team provides multiple API endpoints to get various stats on teams, players, FPL managers and the game itself. We are only concerened with player data so we will be consuming the https://fantasy.premierleague.com/api/bootstrap-static/ endpoint.\n",
    "\n",
    "**Question:** Can we use data analytics to help us find undervalued and overperforming players?\n",
    "\n",
    "We will analyze teams, positions and players to give us insight into "
   ]
  },
  {
   "cell_type": "markdown",
   "id": "dfe56e5e",
   "metadata": {},
   "source": [
    "### Data Loading\n",
    "- import libraries\n",
    "- read data from csv file"
   ]
  },
  {
   "cell_type": "code",
   "execution_count": 2,
   "id": "ae9bfaa6",
   "metadata": {},
   "outputs": [],
   "source": [
    "import requests\n",
    "import pandas as pd\n",
    "import numpy as np\n",
    "import warnings\n",
    "\n",
    "#Turn off warnings\n",
    "warnings.filterwarnings('ignore')"
   ]
  },
  {
   "cell_type": "markdown",
   "id": "542a9b8b",
   "metadata": {},
   "source": [
    "### NOTE: The code cells below have been edited out so that we do not overwrite the data from the 2021/2022 FPL season as the API only provides access to up-to-date data.  We will therefore load our data from the 'data' folder."
   ]
  },
  {
   "cell_type": "markdown",
   "id": "3426cedd",
   "metadata": {},
   "source": [
    "Get data and convert to json"
   ]
  },
  {
   "cell_type": "code",
   "execution_count": 3,
   "id": "7910f4a6",
   "metadata": {},
   "outputs": [],
   "source": [
    "#url = 'https://fantasy.premierleague.com/api/bootstrap-static/'\n",
    "#r = requests.get(url)\n",
    "#fpl_json = r.json()"
   ]
  },
  {
   "cell_type": "markdown",
   "id": "7bef0eec",
   "metadata": {},
   "source": [
    "View dictionary keys"
   ]
  },
  {
   "cell_type": "code",
   "execution_count": 4,
   "id": "17686d07",
   "metadata": {},
   "outputs": [],
   "source": [
    "#fpl_json.keys()"
   ]
  },
  {
   "cell_type": "markdown",
   "id": "d8ecf3de",
   "metadata": {},
   "source": [
    "Convert json to pandas dataframe and export to csv file"
   ]
  },
  {
   "cell_type": "code",
   "execution_count": 5,
   "id": "150a0771",
   "metadata": {},
   "outputs": [],
   "source": [
    "#elements_df = pd.DataFrame(fpl_json['elements'])\n",
    "#elements_types_df = pd.DataFrame(fpl_json['element_types'])\n",
    "#element_stats_df = pd.DataFrame(fpl_json['element_stats'])\n",
    "#teams_df = pd.DataFrame(fpl_json['teams'])\n",
    "\n",
    "#elements_df.to_csv('data/21_22_season_data/elements.csv')\n",
    "#elements_types_df.to_csv('data/21_22_season_data/element_types.csv')\n",
    "#element_stats_df.to_csv('data/21_22_season_data/element_stats.csv')\n",
    "#teams_df.to_csv('data/21_22_season_data/teams.csv')"
   ]
  },
  {
   "cell_type": "markdown",
   "id": "7f4107bb",
   "metadata": {},
   "source": [
    "Load data"
   ]
  },
  {
   "cell_type": "code",
   "execution_count": 6,
   "id": "4f5f7118",
   "metadata": {},
   "outputs": [],
   "source": [
    "#Load data from csv\n",
    "elements_df = pd.read_csv('data/21_22_season_data/elements.csv', index_col=[0])\n",
    "elements_types_df = pd.read_csv('data/21_22_season_data/element_types.csv', index_col=[0])\n",
    "element_stats_df = pd.read_csv('data/21_22_season_data/element_stats.csv', index_col=[0])\n",
    "teams_df = pd.read_csv('data/21_22_season_data/teams.csv', index_col=[0])"
   ]
  },
  {
   "cell_type": "markdown",
   "id": "b4c503c3",
   "metadata": {},
   "source": [
    "### Data Cleaning & Preparation\n",
    "- choose only useful columns\n",
    "- check and cast data types\n",
    "- check and remove duplicate rows"
   ]
  },
  {
   "cell_type": "code",
   "execution_count": 6,
   "id": "89c303c7",
   "metadata": {
    "scrolled": true
   },
   "outputs": [
    {
     "data": {
      "text/html": [
       "<div>\n",
       "<style scoped>\n",
       "    .dataframe tbody tr th:only-of-type {\n",
       "        vertical-align: middle;\n",
       "    }\n",
       "\n",
       "    .dataframe tbody tr th {\n",
       "        vertical-align: top;\n",
       "    }\n",
       "\n",
       "    .dataframe thead th {\n",
       "        text-align: right;\n",
       "    }\n",
       "</style>\n",
       "<table border=\"1\" class=\"dataframe\">\n",
       "  <thead>\n",
       "    <tr style=\"text-align: right;\">\n",
       "      <th></th>\n",
       "      <th>chance_of_playing_next_round</th>\n",
       "      <th>chance_of_playing_this_round</th>\n",
       "      <th>code</th>\n",
       "      <th>cost_change_event</th>\n",
       "      <th>cost_change_event_fall</th>\n",
       "      <th>cost_change_start</th>\n",
       "      <th>cost_change_start_fall</th>\n",
       "      <th>dreamteam_count</th>\n",
       "      <th>element_type</th>\n",
       "      <th>ep_next</th>\n",
       "      <th>...</th>\n",
       "      <th>threat_rank</th>\n",
       "      <th>threat_rank_type</th>\n",
       "      <th>ict_index_rank</th>\n",
       "      <th>ict_index_rank_type</th>\n",
       "      <th>corners_and_indirect_freekicks_order</th>\n",
       "      <th>corners_and_indirect_freekicks_text</th>\n",
       "      <th>direct_freekicks_order</th>\n",
       "      <th>direct_freekicks_text</th>\n",
       "      <th>penalties_order</th>\n",
       "      <th>penalties_text</th>\n",
       "    </tr>\n",
       "  </thead>\n",
       "  <tbody>\n",
       "    <tr>\n",
       "      <th>0</th>\n",
       "      <td>NaN</td>\n",
       "      <td>NaN</td>\n",
       "      <td>58822</td>\n",
       "      <td>0</td>\n",
       "      <td>0</td>\n",
       "      <td>0</td>\n",
       "      <td>0</td>\n",
       "      <td>0</td>\n",
       "      <td>2</td>\n",
       "      <td>2.3</td>\n",
       "      <td>...</td>\n",
       "      <td>238</td>\n",
       "      <td>80</td>\n",
       "      <td>198</td>\n",
       "      <td>63</td>\n",
       "      <td>2.0</td>\n",
       "      <td>NaN</td>\n",
       "      <td>3.0</td>\n",
       "      <td>NaN</td>\n",
       "      <td>NaN</td>\n",
       "      <td>NaN</td>\n",
       "    </tr>\n",
       "    <tr>\n",
       "      <th>1</th>\n",
       "      <td>NaN</td>\n",
       "      <td>NaN</td>\n",
       "      <td>80201</td>\n",
       "      <td>0</td>\n",
       "      <td>0</td>\n",
       "      <td>0</td>\n",
       "      <td>0</td>\n",
       "      <td>0</td>\n",
       "      <td>1</td>\n",
       "      <td>2.7</td>\n",
       "      <td>...</td>\n",
       "      <td>396</td>\n",
       "      <td>27</td>\n",
       "      <td>345</td>\n",
       "      <td>24</td>\n",
       "      <td>NaN</td>\n",
       "      <td>NaN</td>\n",
       "      <td>NaN</td>\n",
       "      <td>NaN</td>\n",
       "      <td>NaN</td>\n",
       "      <td>NaN</td>\n",
       "    </tr>\n",
       "    <tr>\n",
       "      <th>2</th>\n",
       "      <td>NaN</td>\n",
       "      <td>NaN</td>\n",
       "      <td>84450</td>\n",
       "      <td>0</td>\n",
       "      <td>0</td>\n",
       "      <td>0</td>\n",
       "      <td>0</td>\n",
       "      <td>0</td>\n",
       "      <td>3</td>\n",
       "      <td>2.0</td>\n",
       "      <td>...</td>\n",
       "      <td>147</td>\n",
       "      <td>84</td>\n",
       "      <td>101</td>\n",
       "      <td>62</td>\n",
       "      <td>NaN</td>\n",
       "      <td>NaN</td>\n",
       "      <td>NaN</td>\n",
       "      <td>NaN</td>\n",
       "      <td>NaN</td>\n",
       "      <td>NaN</td>\n",
       "    </tr>\n",
       "    <tr>\n",
       "      <th>3</th>\n",
       "      <td>NaN</td>\n",
       "      <td>NaN</td>\n",
       "      <td>153256</td>\n",
       "      <td>0</td>\n",
       "      <td>0</td>\n",
       "      <td>0</td>\n",
       "      <td>0</td>\n",
       "      <td>0</td>\n",
       "      <td>3</td>\n",
       "      <td>1.5</td>\n",
       "      <td>...</td>\n",
       "      <td>290</td>\n",
       "      <td>144</td>\n",
       "      <td>285</td>\n",
       "      <td>129</td>\n",
       "      <td>NaN</td>\n",
       "      <td>NaN</td>\n",
       "      <td>NaN</td>\n",
       "      <td>NaN</td>\n",
       "      <td>NaN</td>\n",
       "      <td>NaN</td>\n",
       "    </tr>\n",
       "    <tr>\n",
       "      <th>4</th>\n",
       "      <td>NaN</td>\n",
       "      <td>NaN</td>\n",
       "      <td>156074</td>\n",
       "      <td>0</td>\n",
       "      <td>0</td>\n",
       "      <td>0</td>\n",
       "      <td>0</td>\n",
       "      <td>0</td>\n",
       "      <td>2</td>\n",
       "      <td>2.3</td>\n",
       "      <td>...</td>\n",
       "      <td>291</td>\n",
       "      <td>112</td>\n",
       "      <td>294</td>\n",
       "      <td>107</td>\n",
       "      <td>NaN</td>\n",
       "      <td>NaN</td>\n",
       "      <td>NaN</td>\n",
       "      <td>NaN</td>\n",
       "      <td>NaN</td>\n",
       "      <td>NaN</td>\n",
       "    </tr>\n",
       "  </tbody>\n",
       "</table>\n",
       "<p>5 rows × 67 columns</p>\n",
       "</div>"
      ],
      "text/plain": [
       "   chance_of_playing_next_round  chance_of_playing_this_round    code  \\\n",
       "0                           NaN                           NaN   58822   \n",
       "1                           NaN                           NaN   80201   \n",
       "2                           NaN                           NaN   84450   \n",
       "3                           NaN                           NaN  153256   \n",
       "4                           NaN                           NaN  156074   \n",
       "\n",
       "   cost_change_event  cost_change_event_fall  cost_change_start  \\\n",
       "0                  0                       0                  0   \n",
       "1                  0                       0                  0   \n",
       "2                  0                       0                  0   \n",
       "3                  0                       0                  0   \n",
       "4                  0                       0                  0   \n",
       "\n",
       "   cost_change_start_fall  dreamteam_count  element_type  ep_next  ...  \\\n",
       "0                       0                0             2      2.3  ...   \n",
       "1                       0                0             1      2.7  ...   \n",
       "2                       0                0             3      2.0  ...   \n",
       "3                       0                0             3      1.5  ...   \n",
       "4                       0                0             2      2.3  ...   \n",
       "\n",
       "   threat_rank  threat_rank_type ict_index_rank  ict_index_rank_type  \\\n",
       "0          238                80            198                   63   \n",
       "1          396                27            345                   24   \n",
       "2          147                84            101                   62   \n",
       "3          290               144            285                  129   \n",
       "4          291               112            294                  107   \n",
       "\n",
       "   corners_and_indirect_freekicks_order  corners_and_indirect_freekicks_text  \\\n",
       "0                                   2.0                                  NaN   \n",
       "1                                   NaN                                  NaN   \n",
       "2                                   NaN                                  NaN   \n",
       "3                                   NaN                                  NaN   \n",
       "4                                   NaN                                  NaN   \n",
       "\n",
       "  direct_freekicks_order direct_freekicks_text  penalties_order penalties_text  \n",
       "0                    3.0                   NaN              NaN            NaN  \n",
       "1                    NaN                   NaN              NaN            NaN  \n",
       "2                    NaN                   NaN              NaN            NaN  \n",
       "3                    NaN                   NaN              NaN            NaN  \n",
       "4                    NaN                   NaN              NaN            NaN  \n",
       "\n",
       "[5 rows x 67 columns]"
      ]
     },
     "execution_count": 6,
     "metadata": {},
     "output_type": "execute_result"
    }
   ],
   "source": [
    "elements_df.head()"
   ]
  },
  {
   "cell_type": "code",
   "execution_count": 7,
   "id": "f62eb776",
   "metadata": {},
   "outputs": [
    {
     "data": {
      "text/plain": [
       "(528, 67)"
      ]
     },
     "execution_count": 7,
     "metadata": {},
     "output_type": "execute_result"
    }
   ],
   "source": [
    "elements_df.shape"
   ]
  },
  {
   "cell_type": "code",
   "execution_count": 8,
   "id": "9b010474",
   "metadata": {
    "scrolled": true
   },
   "outputs": [
    {
     "data": {
      "text/plain": [
       "Index(['chance_of_playing_next_round', 'chance_of_playing_this_round', 'code',\n",
       "       'cost_change_event', 'cost_change_event_fall', 'cost_change_start',\n",
       "       'cost_change_start_fall', 'dreamteam_count', 'element_type', 'ep_next',\n",
       "       'ep_this', 'event_points', 'first_name', 'form', 'id', 'in_dreamteam',\n",
       "       'news', 'news_added', 'now_cost', 'photo', 'points_per_game',\n",
       "       'second_name', 'selected_by_percent', 'special', 'squad_number',\n",
       "       'status', 'team', 'team_code', 'total_points', 'transfers_in',\n",
       "       'transfers_in_event', 'transfers_out', 'transfers_out_event',\n",
       "       'value_form', 'value_season', 'web_name', 'minutes', 'goals_scored',\n",
       "       'assists', 'clean_sheets', 'goals_conceded', 'own_goals',\n",
       "       'penalties_saved', 'penalties_missed', 'yellow_cards', 'red_cards',\n",
       "       'saves', 'bonus', 'bps', 'influence', 'creativity', 'threat',\n",
       "       'ict_index', 'influence_rank', 'influence_rank_type', 'creativity_rank',\n",
       "       'creativity_rank_type', 'threat_rank', 'threat_rank_type',\n",
       "       'ict_index_rank', 'ict_index_rank_type',\n",
       "       'corners_and_indirect_freekicks_order',\n",
       "       'corners_and_indirect_freekicks_text', 'direct_freekicks_order',\n",
       "       'direct_freekicks_text', 'penalties_order', 'penalties_text'],\n",
       "      dtype='object')"
      ]
     },
     "execution_count": 8,
     "metadata": {},
     "output_type": "execute_result"
    }
   ],
   "source": [
    "elements_df.columns"
   ]
  },
  {
   "cell_type": "code",
   "execution_count": 9,
   "id": "c0d44e8d",
   "metadata": {
    "scrolled": false
   },
   "outputs": [],
   "source": [
    "#Get only the interesting columns for analysis\n",
    "\n",
    "cols = ['element_type', 'first_name', 'now_cost', 'points_per_game',\n",
    "       'second_name', 'selected_by_percent', 'team', 'total_points',\n",
    "        'value_season', 'web_name', 'minutes', 'goals_scored',\n",
    "       'assists', 'clean_sheets', 'goals_conceded',\n",
    "       'saves', 'bonus', 'bps', 'influence', 'creativity', 'threat',\n",
    "       'ict_index', 'influence_rank', 'creativity_rank', 'threat_rank', \n",
    "        'ict_index_rank']\n",
    "\n",
    "df = elements_df[cols]"
   ]
  },
  {
   "cell_type": "code",
   "execution_count": 10,
   "id": "1a495276",
   "metadata": {
    "scrolled": true
   },
   "outputs": [
    {
     "data": {
      "text/plain": [
       "element_type             int64\n",
       "first_name              object\n",
       "now_cost                 int64\n",
       "points_per_game        float64\n",
       "second_name             object\n",
       "selected_by_percent    float64\n",
       "team                     int64\n",
       "total_points             int64\n",
       "value_season           float64\n",
       "web_name                object\n",
       "minutes                  int64\n",
       "goals_scored             int64\n",
       "assists                  int64\n",
       "clean_sheets             int64\n",
       "goals_conceded           int64\n",
       "saves                    int64\n",
       "bonus                    int64\n",
       "bps                      int64\n",
       "influence              float64\n",
       "creativity             float64\n",
       "threat                 float64\n",
       "ict_index              float64\n",
       "influence_rank           int64\n",
       "creativity_rank          int64\n",
       "threat_rank              int64\n",
       "ict_index_rank           int64\n",
       "dtype: object"
      ]
     },
     "execution_count": 10,
     "metadata": {},
     "output_type": "execute_result"
    }
   ],
   "source": [
    "df.dtypes"
   ]
  },
  {
   "cell_type": "code",
   "execution_count": 11,
   "id": "1ab0f8a9",
   "metadata": {},
   "outputs": [],
   "source": [
    "#Change columns to float\n",
    "cols = ['points_per_game', 'selected_by_percent', 'value_season', \n",
    "        'influence', 'creativity', 'threat', 'ict_index']\n",
    "\n",
    "df[cols] = df.loc[:, tuple(cols)].astype('float32')"
   ]
  },
  {
   "cell_type": "code",
   "execution_count": 12,
   "id": "eb529402",
   "metadata": {
    "scrolled": true
   },
   "outputs": [],
   "source": [
    "# Add position attrribute\n",
    "pos_dict = dict(zip(elements_types_df['id'], elements_types_df['singular_name']))\n",
    "df.loc[:, 'position'] = df.loc[:,'element_type'].apply(lambda x: pos_dict[x])\n",
    "\n",
    "#Map team to team name\n",
    "team_codes =list(df['team'].unique())\n",
    "team_names = list(teams_df['short_name'].unique())\n",
    "teams_dict = dict(zip(team_codes, team_names))\n",
    "\n",
    "df.loc[:, 'team'] = df.loc[:,'team'].apply(lambda x: teams_dict[x])\n",
    "\n",
    "#Create cost column\n",
    "df.loc[:, 'price'] = df.loc[:,'now_cost'] / 10\n",
    "\n",
    "#Create G+A column\n",
    "\n",
    "df.loc[:, 'G+A'] = df.loc[:,'goals_scored'] + df.loc[:,'assists']"
   ]
  },
  {
   "cell_type": "code",
   "execution_count": 13,
   "id": "8cf97cfe",
   "metadata": {},
   "outputs": [],
   "source": [
    "#Drop uninteresting columns\n",
    "df = df.drop(['element_type', 'now_cost'], axis=1)"
   ]
  },
  {
   "cell_type": "code",
   "execution_count": 14,
   "id": "f30c995b",
   "metadata": {
    "scrolled": true
   },
   "outputs": [
    {
     "data": {
      "text/plain": [
       "0"
      ]
     },
     "execution_count": 14,
     "metadata": {},
     "output_type": "execute_result"
    }
   ],
   "source": [
    "#Check for duplicates\n",
    "df.duplicated().sum()"
   ]
  },
  {
   "cell_type": "markdown",
   "id": "12b27d8b",
   "metadata": {},
   "source": [
    "Discretization and Binning"
   ]
  },
  {
   "cell_type": "code",
   "execution_count": 15,
   "id": "ca5d5601",
   "metadata": {},
   "outputs": [
    {
     "data": {
      "text/plain": [
       "Index(['Midfielder', 'Defender', 'Forward', 'Goalkeeper'], dtype='object')"
      ]
     },
     "execution_count": 15,
     "metadata": {},
     "output_type": "execute_result"
    }
   ],
   "source": [
    "df['position'].value_counts().index"
   ]
  },
  {
   "cell_type": "code",
   "execution_count": 16,
   "id": "ffef5720",
   "metadata": {
    "scrolled": true
   },
   "outputs": [],
   "source": [
    "#Create labels\n",
    "labels = ['Budget', 'Mid', 'Premium']\n",
    "\n",
    "#Create bins\n",
    "gk_bins = [4.0, 5.0, 6.0, 7.0]\n",
    "def_bins = [4.0, 5.0, 6.0, 8.0]\n",
    "mid_bins = [4.0, 6.0, 9.0, 14.0]\n",
    "for_bins = [4.0, 6.0, 9.0, 14.0]\n",
    "\n",
    "#Create list of tuples\n",
    "tup = [(df, gk_bins, 'Goalkeeper', labels),\n",
    "       (df, def_bins, 'Defender', labels),\n",
    "       (df, mid_bins, 'Midfielder', labels),\n",
    "       (df, for_bins, 'Forward', labels)\n",
    "       ]\n",
    "\n",
    "#Discretinization function\n",
    "def categorize_price(dataframe, bins, position, labels):\n",
    "    grp = dataframe.groupby(['position']).get_group(position)\n",
    "    grp_prices = grp['price']\n",
    "    grp.loc[:,'price_range'] = pd.cut(grp_prices, bins, labels=labels, right=False)\n",
    "    \n",
    "    grp_lst.append(grp)\n",
    "    return grp\n",
    "\n",
    "#Create grp_list\n",
    "grp_lst = list()\n",
    "\n",
    "for item in tup:\n",
    "    df = item[0]\n",
    "    bins = item[1]\n",
    "    pos = item[2]\n",
    "    labels = item[3]\n",
    "    categorize_price(df, bins, pos, labels)\n",
    "    \n",
    "frames = grp_lst\n",
    "df = pd.concat(frames)\n"
   ]
  },
  {
   "cell_type": "code",
   "execution_count": 17,
   "id": "2c6e44c6",
   "metadata": {
    "scrolled": true
   },
   "outputs": [],
   "source": [
    "#Create labels\n",
    "labels = ['Differential', 'High']\n",
    "\n",
    "#Create bins\n",
    "selected_by = [0.0, 15.0, 99.0]\n",
    "\n",
    "#Create list of tuples\n",
    "tup = (df, selected_by, labels)\n",
    "\n",
    "#Discretinization function\n",
    "def categorize_own(dataframe, bins, labels):\n",
    "    ownership = dataframe['selected_by_percent']\n",
    "    dataframe['ownership'] = pd.cut(ownership, bins, labels=labels, right=False)\n",
    "\n",
    "    return dataframe\n",
    "\n",
    "df = categorize_own(df, selected_by, labels)"
   ]
  },
  {
   "cell_type": "markdown",
   "id": "f4d3dfb8",
   "metadata": {},
   "source": [
    "### Handle missing data"
   ]
  },
  {
   "cell_type": "code",
   "execution_count": 18,
   "id": "1d199215",
   "metadata": {
    "scrolled": true
   },
   "outputs": [
    {
     "data": {
      "text/plain": [
       "first_name             0\n",
       "points_per_game        0\n",
       "second_name            0\n",
       "selected_by_percent    0\n",
       "team                   0\n",
       "total_points           0\n",
       "value_season           0\n",
       "web_name               0\n",
       "minutes                0\n",
       "goals_scored           0\n",
       "assists                0\n",
       "clean_sheets           0\n",
       "goals_conceded         0\n",
       "saves                  0\n",
       "bonus                  0\n",
       "bps                    0\n",
       "influence              0\n",
       "creativity             0\n",
       "threat                 0\n",
       "ict_index              0\n",
       "influence_rank         0\n",
       "creativity_rank        0\n",
       "threat_rank            0\n",
       "ict_index_rank         0\n",
       "position               0\n",
       "price                  0\n",
       "G+A                    0\n",
       "price_range            0\n",
       "ownership              0\n",
       "dtype: int64"
      ]
     },
     "execution_count": 18,
     "metadata": {},
     "output_type": "execute_result"
    }
   ],
   "source": [
    "df.isnull().sum()"
   ]
  },
  {
   "cell_type": "markdown",
   "id": "3019aee8",
   "metadata": {},
   "source": [
    "### Save clean data"
   ]
  },
  {
   "cell_type": "code",
   "execution_count": 19,
   "id": "3e7918fd",
   "metadata": {},
   "outputs": [],
   "source": [
    "df.to_csv('data/21_22_season_data/fpl_clean.csv', index=False)"
   ]
  }
 ],
 "metadata": {
  "interpreter": {
   "hash": "39d6ca181259f28173c4eebf1d46588cfcbb9c81cc8aa78edc727b29340a7c88"
  },
  "kernelspec": {
   "display_name": "Python 3 (ipykernel)",
   "language": "python",
   "name": "python3"
  },
  "language_info": {
   "codemirror_mode": {
    "name": "ipython",
    "version": 3
   },
   "file_extension": ".py",
   "mimetype": "text/x-python",
   "name": "python",
   "nbconvert_exporter": "python",
   "pygments_lexer": "ipython3",
   "version": "3.9.7"
  }
 },
 "nbformat": 4,
 "nbformat_minor": 5
}
